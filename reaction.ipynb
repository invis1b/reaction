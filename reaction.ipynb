{
 "cells": [
  {
   "cell_type": "code",
   "execution_count": 116,
   "id": "1d5b422b",
   "metadata": {},
   "outputs": [],
   "source": [
    "import numpy as np\n",
    "import random"
   ]
  },
  {
   "cell_type": "code",
   "execution_count": 117,
   "id": "8771ef53",
   "metadata": {},
   "outputs": [
    {
     "name": "stdout",
     "output_type": "stream",
     "text": [
      "associate\n",
      "associate\n",
      "associate\n",
      "associate\n",
      "associate\n",
      "associate\n",
      "associate\n",
      "associate\n",
      "associate\n",
      "associate\n",
      "associate\n",
      "associate\n",
      "associate\n",
      "associate\n",
      "associate\n",
      "associate\n",
      "associate\n",
      "associate\n",
      "associate\n",
      "associate\n",
      "associate\n",
      "associate\n",
      "associate\n",
      "associate\n",
      "associate\n",
      "associate\n",
      "associate\n",
      "associate\n",
      "associate\n",
      "associate\n",
      "associate\n",
      "associate\n",
      "associate\n",
      "associate\n",
      "associate\n",
      "associate\n",
      "associate\n",
      "associate\n",
      "associate\n",
      "associate\n",
      "associate\n",
      "associate\n",
      "associate\n",
      "associate\n",
      "associate\n",
      "associate\n",
      "associate\n",
      "associate\n",
      "associate\n",
      "associate\n",
      "associate\n",
      "associate\n",
      "associate\n",
      "associate\n",
      "associate\n",
      "associate\n",
      "associate\n",
      "associate\n",
      "associate\n",
      "associate\n",
      "associate\n",
      "associate\n",
      "associate\n",
      "associate\n",
      "associate\n",
      "associate\n",
      "associate\n",
      "associate\n",
      "dissociate\n",
      "associate\n",
      "associate\n",
      "associate\n",
      "associate\n",
      "associate\n",
      "dissociate\n",
      "associate\n",
      "associate\n",
      "associate\n",
      "associate\n",
      "associate\n",
      "associate\n",
      "associate\n",
      "associate\n",
      "associate\n",
      "associate\n",
      "associate\n",
      "dissociate\n",
      "associate\n",
      "associate\n",
      "dissociate\n",
      "dissociate\n",
      "associate\n",
      "associate\n",
      "associate\n",
      "associate\n",
      "dissociate\n",
      "associate\n",
      "dissociate\n",
      "associate\n",
      "associate\n",
      "associate\n",
      "dissociate\n",
      "associate\n",
      "associate\n",
      "associate\n",
      "associate\n",
      "associate\n",
      "dissociate\n",
      "associate\n",
      "associate\n",
      "associate\n",
      "associate\n",
      "dissociate\n",
      "associate\n",
      "associate\n",
      "associate\n",
      "associate\n",
      "associate\n",
      "associate\n",
      "associate\n",
      "dissociate\n",
      "associate\n",
      "associate\n",
      "dissociate\n",
      "associate\n",
      "associate\n",
      "associate\n",
      "dissociate\n",
      "associate\n",
      "dissociate\n",
      "associate\n",
      "associate\n",
      "associate\n",
      "associate\n",
      "associate\n",
      "associate\n",
      "dissociate\n",
      "associate\n",
      "associate\n",
      "dissociate\n",
      "associate\n",
      "associate\n",
      "associate\n",
      "associate\n",
      "dissociate\n",
      "associate\n",
      "associate\n",
      "associate\n",
      "dissociate\n",
      "associate\n",
      "associate\n",
      "associate\n",
      "dissociate\n",
      "associate\n",
      "associate\n",
      "associate\n",
      "associate\n",
      "associate\n",
      "associate\n",
      "dissociate\n",
      "dissociate\n",
      "dissociate\n",
      "dissociate\n",
      "associate\n",
      "dissociate\n",
      "associate\n",
      "dissociate\n",
      "associate\n",
      "dissociate\n",
      "dissociate\n",
      "associate\n",
      "associate\n",
      "dissociate\n",
      "dissociate\n",
      "associate\n",
      "associate\n",
      "dissociate\n",
      "associate\n",
      "associate\n",
      "dissociate\n",
      "dissociate\n",
      "associate\n",
      "dissociate\n",
      "associate\n",
      "dissociate\n",
      "associate\n",
      "dissociate\n",
      "dissociate\n",
      "dissociate\n",
      "associate\n",
      "dissociate\n",
      "associate\n",
      "dissociate\n",
      "dissociate\n",
      "associate\n",
      "dissociate\n",
      "associate\n",
      "dissociate\n",
      "dissociate\n",
      "associate\n",
      "associate\n",
      "associate\n",
      "dissociate\n",
      "dissociate\n",
      "associate\n",
      "dissociate\n",
      "associate\n",
      "dissociate\n",
      "associate\n",
      "associate\n",
      "associate\n",
      "associate\n",
      "associate\n",
      "associate\n",
      "dissociate\n",
      "associate\n",
      "associate\n",
      "associate\n",
      "associate\n",
      "associate\n",
      "dissociate\n",
      "associate\n",
      "associate\n",
      "dissociate\n",
      "associate\n",
      "associate\n",
      "associate\n",
      "dissociate\n",
      "associate\n",
      "dissociate\n",
      "dissociate\n",
      "associate\n",
      "dissociate\n",
      "associate\n",
      "dissociate\n",
      "dissociate\n",
      "dissociate\n",
      "dissociate\n",
      "dissociate\n",
      "associate\n",
      "associate\n",
      "associate\n",
      "associate\n",
      "dissociate\n",
      "dissociate\n",
      "associate\n",
      "associate\n",
      "associate\n",
      "dissociate\n",
      "associate\n",
      "dissociate\n",
      "dissociate\n",
      "associate\n",
      "dissociate\n",
      "dissociate\n",
      "associate\n",
      "associate\n",
      "dissociate\n",
      "associate\n",
      "dissociate\n",
      "associate\n",
      "associate\n",
      "associate\n",
      "dissociate\n",
      "associate\n",
      "associate\n",
      "dissociate\n",
      "dissociate\n",
      "associate\n",
      "dissociate\n",
      "dissociate\n",
      "associate\n",
      "dissociate\n",
      "dissociate\n",
      "associate\n",
      "associate\n",
      "associate\n",
      "associate\n",
      "dissociate\n",
      "associate\n",
      "dissociate\n",
      "dissociate\n",
      "associate\n",
      "dissociate\n",
      "dissociate\n",
      "associate\n",
      "associate\n",
      "associate\n",
      "associate\n",
      "associate\n",
      "associate\n",
      "dissociate\n",
      "dissociate\n",
      "dissociate\n",
      "associate\n",
      "dissociate\n",
      "associate\n",
      "dissociate\n",
      "dissociate\n",
      "dissociate\n",
      "associate\n",
      "associate\n",
      "dissociate\n",
      "dissociate\n",
      "dissociate\n",
      "dissociate\n",
      "associate\n",
      "associate\n",
      "dissociate\n",
      "associate\n",
      "dissociate\n",
      "dissociate\n",
      "associate\n",
      "associate\n",
      "associate\n",
      "associate\n",
      "dissociate\n",
      "dissociate\n",
      "associate\n",
      "dissociate\n",
      "dissociate\n",
      "associate\n",
      "associate\n",
      "associate\n",
      "associate\n",
      "dissociate\n",
      "associate\n",
      "associate\n",
      "dissociate\n",
      "dissociate\n",
      "associate\n",
      "associate\n",
      "dissociate\n",
      "dissociate\n",
      "associate\n",
      "dissociate\n",
      "associate\n",
      "dissociate\n",
      "dissociate\n",
      "associate\n",
      "dissociate\n",
      "associate\n",
      "associate\n",
      "dissociate\n",
      "associate\n",
      "dissociate\n",
      "dissociate\n",
      "dissociate\n",
      "dissociate\n",
      "associate\n",
      "dissociate\n",
      "associate\n",
      "dissociate\n",
      "dissociate\n",
      "associate\n",
      "associate\n",
      "associate\n",
      "dissociate\n",
      "associate\n",
      "associate\n",
      "dissociate\n",
      "associate\n",
      "associate\n",
      "associate\n",
      "dissociate\n",
      "associate\n",
      "dissociate\n",
      "dissociate\n",
      "associate\n",
      "associate\n",
      "associate\n",
      "associate\n",
      "associate\n",
      "associate\n",
      "associate\n",
      "associate\n",
      "associate\n",
      "dissociate\n",
      "associate\n",
      "dissociate\n",
      "associate\n",
      "associate\n",
      "associate\n",
      "dissociate\n",
      "associate\n",
      "associate\n",
      "dissociate\n",
      "associate\n",
      "associate\n",
      "dissociate\n",
      "dissociate\n",
      "dissociate\n",
      "dissociate\n",
      "associate\n",
      "dissociate\n",
      "dissociate\n",
      "associate\n",
      "associate\n",
      "dissociate\n",
      "associate\n",
      "dissociate\n",
      "associate\n",
      "associate\n",
      "associate\n",
      "associate\n",
      "associate\n",
      "associate\n",
      "dissociate\n",
      "associate\n",
      "associate\n",
      "dissociate\n",
      "dissociate\n",
      "dissociate\n",
      "associate\n",
      "associate\n",
      "associate\n",
      "associate\n",
      "dissociate\n",
      "associate\n",
      "associate\n",
      "associate\n",
      "associate\n",
      "dissociate\n",
      "dissociate\n",
      "dissociate\n",
      "dissociate\n",
      "associate\n",
      "associate\n",
      "associate\n",
      "associate\n",
      "associate\n",
      "associate\n",
      "dissociate\n",
      "associate\n",
      "associate\n",
      "dissociate\n",
      "dissociate\n",
      "associate\n",
      "dissociate\n",
      "dissociate\n",
      "associate\n",
      "associate\n",
      "dissociate\n",
      "associate\n",
      "dissociate\n",
      "associate\n",
      "associate\n",
      "associate\n",
      "associate\n",
      "associate\n",
      "associate\n",
      "dissociate\n",
      "associate\n",
      "dissociate\n",
      "dissociate\n",
      "dissociate\n",
      "associate\n",
      "associate\n",
      "dissociate\n",
      "associate\n",
      "associate\n",
      "associate\n",
      "dissociate\n",
      "associate\n",
      "associate\n",
      "associate\n",
      "dissociate\n",
      "associate\n",
      "associate\n",
      "dissociate\n",
      "dissociate\n",
      "associate\n",
      "dissociate\n",
      "associate\n",
      "dissociate\n",
      "associate\n",
      "dissociate\n",
      "dissociate\n",
      "dissociate\n",
      "associate\n",
      "dissociate\n",
      "associate\n",
      "associate\n",
      "dissociate\n",
      "associate\n",
      "dissociate\n",
      "dissociate\n",
      "associate\n",
      "associate\n",
      "dissociate\n",
      "dissociate\n",
      "associate\n",
      "associate\n",
      "dissociate\n",
      "associate\n",
      "dissociate\n",
      "associate\n",
      "dissociate\n",
      "associate\n",
      "dissociate\n",
      "associate\n",
      "associate\n",
      "dissociate\n",
      "dissociate\n",
      "dissociate\n",
      "dissociate\n",
      "associate\n",
      "associate\n",
      "associate\n",
      "dissociate\n",
      "dissociate\n",
      "associate\n",
      "dissociate\n",
      "associate\n",
      "associate\n",
      "associate\n",
      "dissociate\n",
      "dissociate\n",
      "associate\n",
      "associate\n",
      "dissociate\n",
      "dissociate\n",
      "dissociate\n",
      "associate\n",
      "associate\n",
      "dissociate\n",
      "dissociate\n",
      "dissociate\n",
      "dissociate\n",
      "dissociate\n",
      "associate\n",
      "dissociate\n",
      "associate\n",
      "associate\n",
      "associate\n",
      "associate\n",
      "associate\n",
      "dissociate\n",
      "dissociate\n",
      "associate\n",
      "dissociate\n",
      "dissociate\n",
      "associate\n",
      "associate\n",
      "associate\n",
      "dissociate\n",
      "associate\n",
      "dissociate\n",
      "associate\n",
      "associate\n",
      "associate\n",
      "associate\n",
      "associate\n",
      "dissociate\n",
      "associate\n",
      "associate\n",
      "associate\n",
      "dissociate\n",
      "associate\n",
      "dissociate\n",
      "associate\n",
      "associate\n",
      "associate\n",
      "dissociate\n",
      "associate\n",
      "dissociate\n",
      "dissociate\n",
      "dissociate\n",
      "dissociate\n",
      "dissociate\n",
      "dissociate\n",
      "dissociate\n",
      "associate\n",
      "associate\n",
      "associate\n",
      "dissociate\n",
      "associate\n",
      "associate\n",
      "dissociate\n",
      "associate\n",
      "associate\n",
      "associate\n",
      "associate\n",
      "dissociate\n",
      "associate\n",
      "associate\n",
      "associate\n",
      "dissociate\n",
      "associate\n",
      "dissociate\n",
      "associate\n",
      "associate\n",
      "dissociate\n",
      "associate\n",
      "associate\n",
      "dissociate\n",
      "dissociate\n",
      "associate\n",
      "dissociate\n",
      "associate\n",
      "associate\n",
      "dissociate\n",
      "associate\n",
      "dissociate\n",
      "associate\n",
      "dissociate\n",
      "dissociate\n",
      "dissociate\n",
      "dissociate\n",
      "associate\n",
      "dissociate\n",
      "associate\n",
      "dissociate\n",
      "dissociate\n",
      "associate\n",
      "associate\n",
      "associate\n",
      "dissociate\n",
      "associate\n",
      "dissociate\n",
      "dissociate\n",
      "associate\n",
      "dissociate\n",
      "dissociate\n",
      "associate\n",
      "dissociate\n",
      "dissociate\n",
      "associate\n",
      "associate\n",
      "associate\n",
      "associate\n",
      "dissociate\n",
      "associate\n",
      "dissociate\n",
      "associate\n",
      "dissociate\n",
      "associate\n",
      "dissociate\n",
      "dissociate\n",
      "dissociate\n",
      "associate\n",
      "associate\n",
      "dissociate\n",
      "dissociate\n",
      "dissociate\n",
      "dissociate\n",
      "dissociate\n",
      "associate\n",
      "associate\n",
      "dissociate\n",
      "associate\n",
      "dissociate\n",
      "associate\n",
      "dissociate\n",
      "associate\n",
      "associate\n",
      "dissociate\n",
      "associate\n",
      "associate\n",
      "associate\n",
      "dissociate\n",
      "dissociate\n",
      "associate\n",
      "dissociate\n",
      "associate\n",
      "associate\n",
      "dissociate\n",
      "dissociate\n",
      "dissociate\n",
      "dissociate\n",
      "dissociate\n",
      "associate\n",
      "associate\n",
      "associate\n",
      "associate\n",
      "associate\n",
      "associate\n",
      "associate\n",
      "associate\n",
      "dissociate\n",
      "dissociate\n",
      "associate\n",
      "associate\n",
      "associate\n",
      "dissociate\n",
      "associate\n",
      "associate\n",
      "dissociate\n",
      "associate\n",
      "dissociate\n",
      "associate\n",
      "dissociate\n",
      "associate\n",
      "associate\n",
      "dissociate\n",
      "associate\n",
      "associate\n",
      "associate\n",
      "associate\n",
      "associate\n",
      "associate\n",
      "dissociate\n",
      "associate\n",
      "associate\n",
      "dissociate\n",
      "associate\n",
      "dissociate\n",
      "associate\n",
      "associate\n",
      "dissociate\n",
      "dissociate\n",
      "dissociate\n",
      "dissociate\n",
      "associate\n",
      "dissociate\n",
      "dissociate\n",
      "dissociate\n",
      "dissociate\n",
      "dissociate\n",
      "associate\n",
      "dissociate\n",
      "dissociate\n",
      "associate\n",
      "dissociate\n",
      "associate\n",
      "associate\n",
      "dissociate\n",
      "dissociate\n",
      "associate\n",
      "associate\n",
      "dissociate\n",
      "associate\n",
      "associate\n",
      "dissociate\n",
      "dissociate\n",
      "associate\n",
      "associate\n",
      "dissociate\n",
      "associate\n",
      "dissociate\n",
      "associate\n",
      "associate\n",
      "associate\n",
      "dissociate\n",
      "associate\n",
      "dissociate\n",
      "associate\n",
      "associate\n",
      "associate\n",
      "associate\n",
      "dissociate\n",
      "dissociate\n",
      "dissociate\n",
      "associate\n",
      "dissociate\n",
      "dissociate\n",
      "dissociate\n",
      "dissociate\n",
      "associate\n",
      "associate\n",
      "associate\n",
      "dissociate\n",
      "dissociate\n",
      "associate\n",
      "associate\n",
      "associate\n",
      "dissociate\n",
      "associate\n",
      "dissociate\n",
      "dissociate\n",
      "dissociate\n",
      "associate\n",
      "associate\n",
      "associate\n",
      "associate\n",
      "dissociate\n",
      "associate\n",
      "associate\n",
      "associate\n",
      "dissociate\n",
      "associate\n",
      "associate\n",
      "dissociate\n",
      "dissociate\n",
      "associate\n",
      "associate\n",
      "associate\n",
      "associate\n",
      "dissociate\n",
      "associate\n",
      "dissociate\n",
      "dissociate\n",
      "dissociate\n",
      "associate\n",
      "dissociate\n",
      "associate\n",
      "dissociate\n",
      "dissociate\n",
      "dissociate\n",
      "dissociate\n",
      "associate\n",
      "dissociate\n",
      "associate\n",
      "associate\n",
      "dissociate\n",
      "associate\n",
      "associate\n",
      "dissociate\n",
      "dissociate\n",
      "dissociate\n",
      "dissociate\n",
      "associate\n",
      "dissociate\n",
      "associate\n",
      "dissociate\n",
      "dissociate\n",
      "associate\n",
      "associate\n",
      "dissociate\n",
      "dissociate\n",
      "associate\n",
      "dissociate\n",
      "associate\n",
      "associate\n",
      "dissociate\n",
      "associate\n",
      "associate\n",
      "dissociate\n",
      "associate\n",
      "dissociate\n",
      "dissociate\n",
      "dissociate\n",
      "associate\n",
      "dissociate\n",
      "dissociate\n",
      "associate\n",
      "associate\n",
      "dissociate\n",
      "associate\n",
      "associate\n",
      "dissociate\n",
      "associate\n",
      "dissociate\n",
      "dissociate\n",
      "dissociate\n",
      "associate\n",
      "dissociate\n",
      "associate\n",
      "dissociate\n",
      "dissociate\n",
      "associate\n",
      "dissociate\n",
      "dissociate\n",
      "associate\n",
      "associate\n",
      "dissociate\n",
      "associate\n",
      "dissociate\n",
      "associate\n",
      "dissociate\n",
      "associate\n",
      "associate\n",
      "associate\n",
      "associate\n",
      "dissociate\n",
      "associate\n",
      "dissociate\n",
      "dissociate\n",
      "dissociate\n",
      "dissociate\n",
      "associate\n",
      "associate\n",
      "dissociate\n",
      "associate\n",
      "associate\n",
      "associate\n",
      "dissociate\n",
      "dissociate\n",
      "dissociate\n",
      "dissociate\n",
      "associate\n",
      "associate\n",
      "dissociate\n",
      "associate\n",
      "associate\n",
      "associate\n",
      "dissociate\n",
      "associate\n",
      "dissociate\n",
      "associate\n",
      "dissociate\n",
      "dissociate\n",
      "dissociate\n",
      "dissociate\n",
      "associate\n",
      "associate\n",
      "associate\n",
      "dissociate\n",
      "associate\n",
      "associate\n"
     ]
    },
    {
     "name": "stdout",
     "output_type": "stream",
     "text": [
      "dissociate\n",
      "dissociate\n",
      "dissociate\n",
      "associate\n",
      "associate\n",
      "associate\n",
      "dissociate\n",
      "dissociate\n",
      "dissociate\n",
      "dissociate\n",
      "dissociate\n",
      "associate\n",
      "associate\n",
      "associate\n",
      "dissociate\n",
      "associate\n",
      "dissociate\n",
      "associate\n",
      "associate\n",
      "dissociate\n",
      "associate\n",
      "associate\n",
      "associate\n",
      "dissociate\n",
      "dissociate\n",
      "associate\n",
      "dissociate\n",
      "associate\n",
      "dissociate\n",
      "associate\n",
      "dissociate\n",
      "dissociate\n",
      "dissociate\n",
      "associate\n",
      "dissociate\n",
      "associate\n",
      "dissociate\n",
      "dissociate\n",
      "associate\n",
      "dissociate\n",
      "associate\n",
      "associate\n",
      "dissociate\n",
      "associate\n",
      "dissociate\n",
      "dissociate\n",
      "associate\n",
      "associate\n",
      "dissociate\n",
      "dissociate\n",
      "associate\n",
      "dissociate\n",
      "associate\n",
      "associate\n",
      "associate\n",
      "associate\n",
      "dissociate\n",
      "dissociate\n",
      "associate\n",
      "associate\n",
      "associate\n",
      "associate\n",
      "associate\n",
      "associate\n",
      "associate\n",
      "dissociate\n",
      "dissociate\n",
      "dissociate\n",
      "associate\n",
      "dissociate\n",
      "associate\n",
      "dissociate\n",
      "associate\n",
      "associate\n",
      "dissociate\n",
      "dissociate\n",
      "dissociate\n",
      "dissociate\n",
      "dissociate\n",
      "dissociate\n",
      "associate\n",
      "dissociate\n",
      "associate\n",
      "dissociate\n",
      "associate\n",
      "associate\n",
      "dissociate\n",
      "associate\n",
      "associate\n",
      "associate\n",
      "dissociate\n",
      "associate\n",
      "dissociate\n",
      "associate\n",
      "dissociate\n",
      "dissociate\n",
      "dissociate\n",
      "associate\n",
      "dissociate\n",
      "associate\n"
     ]
    }
   ],
   "source": [
    "class Reaction_Simulation():\n",
    "    def __init__(self):\n",
    "        self.rod_array=np.empty((0, 3), dtype=int)\n",
    "        self.events=[]\n",
    "        self.time=0\n",
    "        self.g=[3,3,6]\n",
    "        self.bond_density=[1,1,1]\n",
    "    def associate(self,i,j,ax):\n",
    "        old_rod_one=self.rod_array[i]\n",
    "        old_rod_two=self.rod_array[j]\n",
    "        new_rod=np.zeros((1,3),dtype=int)\n",
    "        for k in range(0,3):\n",
    "            if k!=ax:\n",
    "                if(old_rod_one[k]!=old_rod_two[k]):\n",
    "                    print(\"Error: size not match\")\n",
    "                else:\n",
    "                    new_rod[0][k]=old_rod_one[k]\n",
    "            else:\n",
    "                new_rod[0][k]=old_rod_one[k]+old_rod_two[k]\n",
    "        if i<j:\n",
    "            self.rod_array=np.delete(self.rod_array,j,axis=0)\n",
    "            self.rod_array=np.delete(self.rod_array,i,axis=0)\n",
    "        else:\n",
    "            self.rod_array=np.delete(self.rod_array,i,axis=0)\n",
    "            self.rod_array=np.delete(self.rod_array,j,axis=0)\n",
    "        self.rod_array=np.vstack((self.rod_array, new_rod))\n",
    "    def dissociate(self,i,ax,l):\n",
    "        old_rod=self.rod_array[i]\n",
    "        new_rod_one=np.zeros((1,3),dtype=int)\n",
    "        new_rod_two=np.zeros((1,3),dtype=int)\n",
    "        for k in range(0,3):\n",
    "            if k!=ax:\n",
    "                new_rod_one[0][k]=old_rod[k]\n",
    "                new_rod_two[0][k]=old_rod[k]\n",
    "            else:\n",
    "                if(l<old_rod[k]):\n",
    "                    new_rod_one[0][k]=l\n",
    "                    new_rod_two[0][k]=old_rod[k]-l\n",
    "                else:\n",
    "                    print(\"Error: size too long\")\n",
    "        self.rod_array=np.delete(self.rod_array,i,axis=0)\n",
    "        self.rod_array=np.vstack((self.rod_array, new_rod_one))\n",
    "        self.rod_array=np.vstack((self.rod_array, new_rod_two))\n",
    "\n",
    "    def construct_associate_events(self):\n",
    "        for ax in range(0,3):\n",
    "            rod_array=np.delete(self.rod_array,ax,axis=1)\n",
    "            value,indices,count=np.unique(rod_array, axis=0,return_counts=True,return_inverse=True)\n",
    "            number_diff_values=value.shape[0]\n",
    "            for i in range(0,number_diff_values):\n",
    "                index_same=np.where(indices==i)[0]\n",
    "                for j in range(0,index_same.shape[0]-1):\n",
    "                    for k in range(j+1,index_same.shape[0]):\n",
    "                        old_rod_one=self.rod_array[j]\n",
    "                        old_rod_two=self.rod_array[k]\n",
    "                        total_bonds=self.bond_density[ax]\n",
    "                        for m in range(0,3):\n",
    "                            if m!=ax:\n",
    "                                total_bonds=total_bonds*old_rod_one[m]\n",
    "                        #mass_one=old_rod_one[0]*old_rod_one[1]*old_rod_one[2]\n",
    "                        #mass_two=old_rod_two[0]*old_rod_two[1]*old_rod_two[2]\n",
    "                        #reduced_mass=1/(1/mass_one+1/mass_two)\n",
    "                        #rate=np.sqrt(1/reduced_mass)*(1/4)**total_bonds\n",
    "                        rate=(1/4)**total_bonds\n",
    "                        self.events.append([\"associate\",index_same[j],index_same[k],ax,rate])\n",
    "    def construct_dissociate_events(self):\n",
    "        for i in range(0,self.rod_array.shape[0]):\n",
    "            old_rod=self.rod_array[i]\n",
    "            for ax in range(0,3):\n",
    "                if old_rod[ax]>1:\n",
    "                    \n",
    "                \n",
    "                    total_bonds=self.bond_density[ax]\n",
    "                    for m in range(0,3):\n",
    "                            if m!=ax:\n",
    "                                total_bonds=total_bonds*old_rod[m]\n",
    "                    rate=np.exp(-total_bonds*self.g[ax]+5)\n",
    "                    for l in range(1,old_rod[ax]):\n",
    "                        self.events.append([\"dissociate\",i,ax,int(l),rate])\n",
    "        \n",
    "    def execute_event(self, event):\n",
    "        if event[0]=='associate':\n",
    "            self.associate(event[1],event[2],event[3])\n",
    "            print(\"associate\")\n",
    "        if event[0]=='dissociate':\n",
    "            self.dissociate(event[1],event[2],event[3])\n",
    "            print(\"dissociate\")\n",
    "    def kmc_step(self):\n",
    "        self.events=[]\n",
    "        self.construct_associate_events()\n",
    "        self.construct_dissociate_events()\n",
    "        total_rate = sum(event[4] for event in self.events)\n",
    "        rand_number=random.random()\n",
    "        dt = -np.log(rand_number) / total_rate\n",
    "        self.time += dt\n",
    "        cumulative_rate = 0\n",
    "        r = rand_number * total_rate\n",
    "        for event in self.events:\n",
    "            cumulative_rate += event[4]\n",
    "            if r < cumulative_rate:\n",
    "                self.execute_event(event)\n",
    "                break\n",
    "\n",
    "    def run(self, steps):\n",
    "        for _ in range(steps):\n",
    "            self.kmc_step()\n",
    "            \n",
    "                        \n",
    "sim = Reaction_Simulation()\n",
    "sim.rod_array=np.ones((200,3),dtype=int)     \n",
    "sim.run(1000)\n",
    "       \n",
    "            \n",
    "        "
   ]
  },
  {
   "cell_type": "code",
   "execution_count": 125,
   "id": "8b7e484a",
   "metadata": {},
   "outputs": [
    {
     "data": {
      "text/plain": [
       "array([[ 3,  2,  2],\n",
       "       [ 2,  1,  7],\n",
       "       [ 2,  1, 26],\n",
       "       [ 1,  2,  4],\n",
       "       [ 2,  1, 12],\n",
       "       [ 1,  1,  2],\n",
       "       [ 1,  2, 11],\n",
       "       [ 1,  1,  1],\n",
       "       [ 1,  1,  2],\n",
       "       [ 1,  1,  9],\n",
       "       [ 1,  1,  2],\n",
       "       [ 1,  1,  1],\n",
       "       [ 1,  1,  3],\n",
       "       [ 1,  1,  3],\n",
       "       [ 1,  1,  1],\n",
       "       [ 1,  1, 10],\n",
       "       [ 1,  1,  4],\n",
       "       [ 1,  1,  1],\n",
       "       [ 1,  1,  1],\n",
       "       [ 1,  1,  6],\n",
       "       [ 1,  1,  3],\n",
       "       [ 1,  1, 10],\n",
       "       [ 1,  1,  2],\n",
       "       [ 1,  1,  7]])"
      ]
     },
     "execution_count": 125,
     "metadata": {},
     "output_type": "execute_result"
    }
   ],
   "source": [
    "sim.rod_array"
   ]
  },
  {
   "cell_type": "code",
   "execution_count": 124,
   "id": "b54d246d",
   "metadata": {},
   "outputs": [],
   "source": [
    "np.savetxt(\"foo.csv\", sim.rod_array, delimiter=\",\")"
   ]
  },
  {
   "cell_type": "code",
   "execution_count": 118,
   "id": "4073657c",
   "metadata": {},
   "outputs": [
    {
     "data": {
      "application/vnd.plotly.v1+json": {
       "config": {
        "plotlyServerURL": "https://plot.ly"
       },
       "data": [
        {
         "mode": "markers",
         "type": "scatter3d",
         "x": [
          3,
          2,
          2,
          1,
          2,
          1,
          1,
          1,
          1,
          1,
          1,
          1,
          1,
          1,
          1,
          1,
          1,
          1,
          1,
          1,
          1,
          1,
          1,
          1
         ],
         "y": [
          2,
          1,
          1,
          2,
          1,
          1,
          2,
          1,
          1,
          1,
          1,
          1,
          1,
          1,
          1,
          1,
          1,
          1,
          1,
          1,
          1,
          1,
          1,
          1
         ],
         "z": [
          2,
          7,
          26,
          4,
          12,
          2,
          11,
          1,
          2,
          9,
          2,
          1,
          3,
          3,
          1,
          10,
          4,
          1,
          1,
          6,
          3,
          10,
          2,
          7
         ]
        }
       ],
       "layout": {
        "template": {
         "data": {
          "bar": [
           {
            "error_x": {
             "color": "#2a3f5f"
            },
            "error_y": {
             "color": "#2a3f5f"
            },
            "marker": {
             "line": {
              "color": "#E5ECF6",
              "width": 0.5
             },
             "pattern": {
              "fillmode": "overlay",
              "size": 10,
              "solidity": 0.2
             }
            },
            "type": "bar"
           }
          ],
          "barpolar": [
           {
            "marker": {
             "line": {
              "color": "#E5ECF6",
              "width": 0.5
             },
             "pattern": {
              "fillmode": "overlay",
              "size": 10,
              "solidity": 0.2
             }
            },
            "type": "barpolar"
           }
          ],
          "carpet": [
           {
            "aaxis": {
             "endlinecolor": "#2a3f5f",
             "gridcolor": "white",
             "linecolor": "white",
             "minorgridcolor": "white",
             "startlinecolor": "#2a3f5f"
            },
            "baxis": {
             "endlinecolor": "#2a3f5f",
             "gridcolor": "white",
             "linecolor": "white",
             "minorgridcolor": "white",
             "startlinecolor": "#2a3f5f"
            },
            "type": "carpet"
           }
          ],
          "choropleth": [
           {
            "colorbar": {
             "outlinewidth": 0,
             "ticks": ""
            },
            "type": "choropleth"
           }
          ],
          "contour": [
           {
            "colorbar": {
             "outlinewidth": 0,
             "ticks": ""
            },
            "colorscale": [
             [
              0,
              "#0d0887"
             ],
             [
              0.1111111111111111,
              "#46039f"
             ],
             [
              0.2222222222222222,
              "#7201a8"
             ],
             [
              0.3333333333333333,
              "#9c179e"
             ],
             [
              0.4444444444444444,
              "#bd3786"
             ],
             [
              0.5555555555555556,
              "#d8576b"
             ],
             [
              0.6666666666666666,
              "#ed7953"
             ],
             [
              0.7777777777777778,
              "#fb9f3a"
             ],
             [
              0.8888888888888888,
              "#fdca26"
             ],
             [
              1,
              "#f0f921"
             ]
            ],
            "type": "contour"
           }
          ],
          "contourcarpet": [
           {
            "colorbar": {
             "outlinewidth": 0,
             "ticks": ""
            },
            "type": "contourcarpet"
           }
          ],
          "heatmap": [
           {
            "colorbar": {
             "outlinewidth": 0,
             "ticks": ""
            },
            "colorscale": [
             [
              0,
              "#0d0887"
             ],
             [
              0.1111111111111111,
              "#46039f"
             ],
             [
              0.2222222222222222,
              "#7201a8"
             ],
             [
              0.3333333333333333,
              "#9c179e"
             ],
             [
              0.4444444444444444,
              "#bd3786"
             ],
             [
              0.5555555555555556,
              "#d8576b"
             ],
             [
              0.6666666666666666,
              "#ed7953"
             ],
             [
              0.7777777777777778,
              "#fb9f3a"
             ],
             [
              0.8888888888888888,
              "#fdca26"
             ],
             [
              1,
              "#f0f921"
             ]
            ],
            "type": "heatmap"
           }
          ],
          "heatmapgl": [
           {
            "colorbar": {
             "outlinewidth": 0,
             "ticks": ""
            },
            "colorscale": [
             [
              0,
              "#0d0887"
             ],
             [
              0.1111111111111111,
              "#46039f"
             ],
             [
              0.2222222222222222,
              "#7201a8"
             ],
             [
              0.3333333333333333,
              "#9c179e"
             ],
             [
              0.4444444444444444,
              "#bd3786"
             ],
             [
              0.5555555555555556,
              "#d8576b"
             ],
             [
              0.6666666666666666,
              "#ed7953"
             ],
             [
              0.7777777777777778,
              "#fb9f3a"
             ],
             [
              0.8888888888888888,
              "#fdca26"
             ],
             [
              1,
              "#f0f921"
             ]
            ],
            "type": "heatmapgl"
           }
          ],
          "histogram": [
           {
            "marker": {
             "pattern": {
              "fillmode": "overlay",
              "size": 10,
              "solidity": 0.2
             }
            },
            "type": "histogram"
           }
          ],
          "histogram2d": [
           {
            "colorbar": {
             "outlinewidth": 0,
             "ticks": ""
            },
            "colorscale": [
             [
              0,
              "#0d0887"
             ],
             [
              0.1111111111111111,
              "#46039f"
             ],
             [
              0.2222222222222222,
              "#7201a8"
             ],
             [
              0.3333333333333333,
              "#9c179e"
             ],
             [
              0.4444444444444444,
              "#bd3786"
             ],
             [
              0.5555555555555556,
              "#d8576b"
             ],
             [
              0.6666666666666666,
              "#ed7953"
             ],
             [
              0.7777777777777778,
              "#fb9f3a"
             ],
             [
              0.8888888888888888,
              "#fdca26"
             ],
             [
              1,
              "#f0f921"
             ]
            ],
            "type": "histogram2d"
           }
          ],
          "histogram2dcontour": [
           {
            "colorbar": {
             "outlinewidth": 0,
             "ticks": ""
            },
            "colorscale": [
             [
              0,
              "#0d0887"
             ],
             [
              0.1111111111111111,
              "#46039f"
             ],
             [
              0.2222222222222222,
              "#7201a8"
             ],
             [
              0.3333333333333333,
              "#9c179e"
             ],
             [
              0.4444444444444444,
              "#bd3786"
             ],
             [
              0.5555555555555556,
              "#d8576b"
             ],
             [
              0.6666666666666666,
              "#ed7953"
             ],
             [
              0.7777777777777778,
              "#fb9f3a"
             ],
             [
              0.8888888888888888,
              "#fdca26"
             ],
             [
              1,
              "#f0f921"
             ]
            ],
            "type": "histogram2dcontour"
           }
          ],
          "mesh3d": [
           {
            "colorbar": {
             "outlinewidth": 0,
             "ticks": ""
            },
            "type": "mesh3d"
           }
          ],
          "parcoords": [
           {
            "line": {
             "colorbar": {
              "outlinewidth": 0,
              "ticks": ""
             }
            },
            "type": "parcoords"
           }
          ],
          "pie": [
           {
            "automargin": true,
            "type": "pie"
           }
          ],
          "scatter": [
           {
            "fillpattern": {
             "fillmode": "overlay",
             "size": 10,
             "solidity": 0.2
            },
            "type": "scatter"
           }
          ],
          "scatter3d": [
           {
            "line": {
             "colorbar": {
              "outlinewidth": 0,
              "ticks": ""
             }
            },
            "marker": {
             "colorbar": {
              "outlinewidth": 0,
              "ticks": ""
             }
            },
            "type": "scatter3d"
           }
          ],
          "scattercarpet": [
           {
            "marker": {
             "colorbar": {
              "outlinewidth": 0,
              "ticks": ""
             }
            },
            "type": "scattercarpet"
           }
          ],
          "scattergeo": [
           {
            "marker": {
             "colorbar": {
              "outlinewidth": 0,
              "ticks": ""
             }
            },
            "type": "scattergeo"
           }
          ],
          "scattergl": [
           {
            "marker": {
             "colorbar": {
              "outlinewidth": 0,
              "ticks": ""
             }
            },
            "type": "scattergl"
           }
          ],
          "scattermapbox": [
           {
            "marker": {
             "colorbar": {
              "outlinewidth": 0,
              "ticks": ""
             }
            },
            "type": "scattermapbox"
           }
          ],
          "scatterpolar": [
           {
            "marker": {
             "colorbar": {
              "outlinewidth": 0,
              "ticks": ""
             }
            },
            "type": "scatterpolar"
           }
          ],
          "scatterpolargl": [
           {
            "marker": {
             "colorbar": {
              "outlinewidth": 0,
              "ticks": ""
             }
            },
            "type": "scatterpolargl"
           }
          ],
          "scatterternary": [
           {
            "marker": {
             "colorbar": {
              "outlinewidth": 0,
              "ticks": ""
             }
            },
            "type": "scatterternary"
           }
          ],
          "surface": [
           {
            "colorbar": {
             "outlinewidth": 0,
             "ticks": ""
            },
            "colorscale": [
             [
              0,
              "#0d0887"
             ],
             [
              0.1111111111111111,
              "#46039f"
             ],
             [
              0.2222222222222222,
              "#7201a8"
             ],
             [
              0.3333333333333333,
              "#9c179e"
             ],
             [
              0.4444444444444444,
              "#bd3786"
             ],
             [
              0.5555555555555556,
              "#d8576b"
             ],
             [
              0.6666666666666666,
              "#ed7953"
             ],
             [
              0.7777777777777778,
              "#fb9f3a"
             ],
             [
              0.8888888888888888,
              "#fdca26"
             ],
             [
              1,
              "#f0f921"
             ]
            ],
            "type": "surface"
           }
          ],
          "table": [
           {
            "cells": {
             "fill": {
              "color": "#EBF0F8"
             },
             "line": {
              "color": "white"
             }
            },
            "header": {
             "fill": {
              "color": "#C8D4E3"
             },
             "line": {
              "color": "white"
             }
            },
            "type": "table"
           }
          ]
         },
         "layout": {
          "annotationdefaults": {
           "arrowcolor": "#2a3f5f",
           "arrowhead": 0,
           "arrowwidth": 1
          },
          "autotypenumbers": "strict",
          "coloraxis": {
           "colorbar": {
            "outlinewidth": 0,
            "ticks": ""
           }
          },
          "colorscale": {
           "diverging": [
            [
             0,
             "#8e0152"
            ],
            [
             0.1,
             "#c51b7d"
            ],
            [
             0.2,
             "#de77ae"
            ],
            [
             0.3,
             "#f1b6da"
            ],
            [
             0.4,
             "#fde0ef"
            ],
            [
             0.5,
             "#f7f7f7"
            ],
            [
             0.6,
             "#e6f5d0"
            ],
            [
             0.7,
             "#b8e186"
            ],
            [
             0.8,
             "#7fbc41"
            ],
            [
             0.9,
             "#4d9221"
            ],
            [
             1,
             "#276419"
            ]
           ],
           "sequential": [
            [
             0,
             "#0d0887"
            ],
            [
             0.1111111111111111,
             "#46039f"
            ],
            [
             0.2222222222222222,
             "#7201a8"
            ],
            [
             0.3333333333333333,
             "#9c179e"
            ],
            [
             0.4444444444444444,
             "#bd3786"
            ],
            [
             0.5555555555555556,
             "#d8576b"
            ],
            [
             0.6666666666666666,
             "#ed7953"
            ],
            [
             0.7777777777777778,
             "#fb9f3a"
            ],
            [
             0.8888888888888888,
             "#fdca26"
            ],
            [
             1,
             "#f0f921"
            ]
           ],
           "sequentialminus": [
            [
             0,
             "#0d0887"
            ],
            [
             0.1111111111111111,
             "#46039f"
            ],
            [
             0.2222222222222222,
             "#7201a8"
            ],
            [
             0.3333333333333333,
             "#9c179e"
            ],
            [
             0.4444444444444444,
             "#bd3786"
            ],
            [
             0.5555555555555556,
             "#d8576b"
            ],
            [
             0.6666666666666666,
             "#ed7953"
            ],
            [
             0.7777777777777778,
             "#fb9f3a"
            ],
            [
             0.8888888888888888,
             "#fdca26"
            ],
            [
             1,
             "#f0f921"
            ]
           ]
          },
          "colorway": [
           "#636efa",
           "#EF553B",
           "#00cc96",
           "#ab63fa",
           "#FFA15A",
           "#19d3f3",
           "#FF6692",
           "#B6E880",
           "#FF97FF",
           "#FECB52"
          ],
          "font": {
           "color": "#2a3f5f"
          },
          "geo": {
           "bgcolor": "white",
           "lakecolor": "white",
           "landcolor": "#E5ECF6",
           "showlakes": true,
           "showland": true,
           "subunitcolor": "white"
          },
          "hoverlabel": {
           "align": "left"
          },
          "hovermode": "closest",
          "mapbox": {
           "style": "light"
          },
          "paper_bgcolor": "white",
          "plot_bgcolor": "#E5ECF6",
          "polar": {
           "angularaxis": {
            "gridcolor": "white",
            "linecolor": "white",
            "ticks": ""
           },
           "bgcolor": "#E5ECF6",
           "radialaxis": {
            "gridcolor": "white",
            "linecolor": "white",
            "ticks": ""
           }
          },
          "scene": {
           "xaxis": {
            "backgroundcolor": "#E5ECF6",
            "gridcolor": "white",
            "gridwidth": 2,
            "linecolor": "white",
            "showbackground": true,
            "ticks": "",
            "zerolinecolor": "white"
           },
           "yaxis": {
            "backgroundcolor": "#E5ECF6",
            "gridcolor": "white",
            "gridwidth": 2,
            "linecolor": "white",
            "showbackground": true,
            "ticks": "",
            "zerolinecolor": "white"
           },
           "zaxis": {
            "backgroundcolor": "#E5ECF6",
            "gridcolor": "white",
            "gridwidth": 2,
            "linecolor": "white",
            "showbackground": true,
            "ticks": "",
            "zerolinecolor": "white"
           }
          },
          "shapedefaults": {
           "line": {
            "color": "#2a3f5f"
           }
          },
          "ternary": {
           "aaxis": {
            "gridcolor": "white",
            "linecolor": "white",
            "ticks": ""
           },
           "baxis": {
            "gridcolor": "white",
            "linecolor": "white",
            "ticks": ""
           },
           "bgcolor": "#E5ECF6",
           "caxis": {
            "gridcolor": "white",
            "linecolor": "white",
            "ticks": ""
           }
          },
          "title": {
           "x": 0.05
          },
          "xaxis": {
           "automargin": true,
           "gridcolor": "white",
           "linecolor": "white",
           "ticks": "",
           "title": {
            "standoff": 15
           },
           "zerolinecolor": "white",
           "zerolinewidth": 2
          },
          "yaxis": {
           "automargin": true,
           "gridcolor": "white",
           "linecolor": "white",
           "ticks": "",
           "title": {
            "standoff": 15
           },
           "zerolinecolor": "white",
           "zerolinewidth": 2
          }
         }
        }
       }
      },
      "text/html": [
       "<div>                            <div id=\"ce46614b-a682-46bc-89f5-7f5e5494b1d3\" class=\"plotly-graph-div\" style=\"height:525px; width:100%;\"></div>            <script type=\"text/javascript\">                require([\"plotly\"], function(Plotly) {                    window.PLOTLYENV=window.PLOTLYENV || {};                                    if (document.getElementById(\"ce46614b-a682-46bc-89f5-7f5e5494b1d3\")) {                    Plotly.newPlot(                        \"ce46614b-a682-46bc-89f5-7f5e5494b1d3\",                        [{\"mode\":\"markers\",\"x\":[3,2,2,1,2,1,1,1,1,1,1,1,1,1,1,1,1,1,1,1,1,1,1,1],\"y\":[2,1,1,2,1,1,2,1,1,1,1,1,1,1,1,1,1,1,1,1,1,1,1,1],\"z\":[2,7,26,4,12,2,11,1,2,9,2,1,3,3,1,10,4,1,1,6,3,10,2,7],\"type\":\"scatter3d\"}],                        {\"template\":{\"data\":{\"histogram2dcontour\":[{\"type\":\"histogram2dcontour\",\"colorbar\":{\"outlinewidth\":0,\"ticks\":\"\"},\"colorscale\":[[0.0,\"#0d0887\"],[0.1111111111111111,\"#46039f\"],[0.2222222222222222,\"#7201a8\"],[0.3333333333333333,\"#9c179e\"],[0.4444444444444444,\"#bd3786\"],[0.5555555555555556,\"#d8576b\"],[0.6666666666666666,\"#ed7953\"],[0.7777777777777778,\"#fb9f3a\"],[0.8888888888888888,\"#fdca26\"],[1.0,\"#f0f921\"]]}],\"choropleth\":[{\"type\":\"choropleth\",\"colorbar\":{\"outlinewidth\":0,\"ticks\":\"\"}}],\"histogram2d\":[{\"type\":\"histogram2d\",\"colorbar\":{\"outlinewidth\":0,\"ticks\":\"\"},\"colorscale\":[[0.0,\"#0d0887\"],[0.1111111111111111,\"#46039f\"],[0.2222222222222222,\"#7201a8\"],[0.3333333333333333,\"#9c179e\"],[0.4444444444444444,\"#bd3786\"],[0.5555555555555556,\"#d8576b\"],[0.6666666666666666,\"#ed7953\"],[0.7777777777777778,\"#fb9f3a\"],[0.8888888888888888,\"#fdca26\"],[1.0,\"#f0f921\"]]}],\"heatmap\":[{\"type\":\"heatmap\",\"colorbar\":{\"outlinewidth\":0,\"ticks\":\"\"},\"colorscale\":[[0.0,\"#0d0887\"],[0.1111111111111111,\"#46039f\"],[0.2222222222222222,\"#7201a8\"],[0.3333333333333333,\"#9c179e\"],[0.4444444444444444,\"#bd3786\"],[0.5555555555555556,\"#d8576b\"],[0.6666666666666666,\"#ed7953\"],[0.7777777777777778,\"#fb9f3a\"],[0.8888888888888888,\"#fdca26\"],[1.0,\"#f0f921\"]]}],\"heatmapgl\":[{\"type\":\"heatmapgl\",\"colorbar\":{\"outlinewidth\":0,\"ticks\":\"\"},\"colorscale\":[[0.0,\"#0d0887\"],[0.1111111111111111,\"#46039f\"],[0.2222222222222222,\"#7201a8\"],[0.3333333333333333,\"#9c179e\"],[0.4444444444444444,\"#bd3786\"],[0.5555555555555556,\"#d8576b\"],[0.6666666666666666,\"#ed7953\"],[0.7777777777777778,\"#fb9f3a\"],[0.8888888888888888,\"#fdca26\"],[1.0,\"#f0f921\"]]}],\"contourcarpet\":[{\"type\":\"contourcarpet\",\"colorbar\":{\"outlinewidth\":0,\"ticks\":\"\"}}],\"contour\":[{\"type\":\"contour\",\"colorbar\":{\"outlinewidth\":0,\"ticks\":\"\"},\"colorscale\":[[0.0,\"#0d0887\"],[0.1111111111111111,\"#46039f\"],[0.2222222222222222,\"#7201a8\"],[0.3333333333333333,\"#9c179e\"],[0.4444444444444444,\"#bd3786\"],[0.5555555555555556,\"#d8576b\"],[0.6666666666666666,\"#ed7953\"],[0.7777777777777778,\"#fb9f3a\"],[0.8888888888888888,\"#fdca26\"],[1.0,\"#f0f921\"]]}],\"surface\":[{\"type\":\"surface\",\"colorbar\":{\"outlinewidth\":0,\"ticks\":\"\"},\"colorscale\":[[0.0,\"#0d0887\"],[0.1111111111111111,\"#46039f\"],[0.2222222222222222,\"#7201a8\"],[0.3333333333333333,\"#9c179e\"],[0.4444444444444444,\"#bd3786\"],[0.5555555555555556,\"#d8576b\"],[0.6666666666666666,\"#ed7953\"],[0.7777777777777778,\"#fb9f3a\"],[0.8888888888888888,\"#fdca26\"],[1.0,\"#f0f921\"]]}],\"mesh3d\":[{\"type\":\"mesh3d\",\"colorbar\":{\"outlinewidth\":0,\"ticks\":\"\"}}],\"scatter\":[{\"fillpattern\":{\"fillmode\":\"overlay\",\"size\":10,\"solidity\":0.2},\"type\":\"scatter\"}],\"parcoords\":[{\"type\":\"parcoords\",\"line\":{\"colorbar\":{\"outlinewidth\":0,\"ticks\":\"\"}}}],\"scatterpolargl\":[{\"type\":\"scatterpolargl\",\"marker\":{\"colorbar\":{\"outlinewidth\":0,\"ticks\":\"\"}}}],\"bar\":[{\"error_x\":{\"color\":\"#2a3f5f\"},\"error_y\":{\"color\":\"#2a3f5f\"},\"marker\":{\"line\":{\"color\":\"#E5ECF6\",\"width\":0.5},\"pattern\":{\"fillmode\":\"overlay\",\"size\":10,\"solidity\":0.2}},\"type\":\"bar\"}],\"scattergeo\":[{\"type\":\"scattergeo\",\"marker\":{\"colorbar\":{\"outlinewidth\":0,\"ticks\":\"\"}}}],\"scatterpolar\":[{\"type\":\"scatterpolar\",\"marker\":{\"colorbar\":{\"outlinewidth\":0,\"ticks\":\"\"}}}],\"histogram\":[{\"marker\":{\"pattern\":{\"fillmode\":\"overlay\",\"size\":10,\"solidity\":0.2}},\"type\":\"histogram\"}],\"scattergl\":[{\"type\":\"scattergl\",\"marker\":{\"colorbar\":{\"outlinewidth\":0,\"ticks\":\"\"}}}],\"scatter3d\":[{\"type\":\"scatter3d\",\"line\":{\"colorbar\":{\"outlinewidth\":0,\"ticks\":\"\"}},\"marker\":{\"colorbar\":{\"outlinewidth\":0,\"ticks\":\"\"}}}],\"scattermapbox\":[{\"type\":\"scattermapbox\",\"marker\":{\"colorbar\":{\"outlinewidth\":0,\"ticks\":\"\"}}}],\"scatterternary\":[{\"type\":\"scatterternary\",\"marker\":{\"colorbar\":{\"outlinewidth\":0,\"ticks\":\"\"}}}],\"scattercarpet\":[{\"type\":\"scattercarpet\",\"marker\":{\"colorbar\":{\"outlinewidth\":0,\"ticks\":\"\"}}}],\"carpet\":[{\"aaxis\":{\"endlinecolor\":\"#2a3f5f\",\"gridcolor\":\"white\",\"linecolor\":\"white\",\"minorgridcolor\":\"white\",\"startlinecolor\":\"#2a3f5f\"},\"baxis\":{\"endlinecolor\":\"#2a3f5f\",\"gridcolor\":\"white\",\"linecolor\":\"white\",\"minorgridcolor\":\"white\",\"startlinecolor\":\"#2a3f5f\"},\"type\":\"carpet\"}],\"table\":[{\"cells\":{\"fill\":{\"color\":\"#EBF0F8\"},\"line\":{\"color\":\"white\"}},\"header\":{\"fill\":{\"color\":\"#C8D4E3\"},\"line\":{\"color\":\"white\"}},\"type\":\"table\"}],\"barpolar\":[{\"marker\":{\"line\":{\"color\":\"#E5ECF6\",\"width\":0.5},\"pattern\":{\"fillmode\":\"overlay\",\"size\":10,\"solidity\":0.2}},\"type\":\"barpolar\"}],\"pie\":[{\"automargin\":true,\"type\":\"pie\"}]},\"layout\":{\"autotypenumbers\":\"strict\",\"colorway\":[\"#636efa\",\"#EF553B\",\"#00cc96\",\"#ab63fa\",\"#FFA15A\",\"#19d3f3\",\"#FF6692\",\"#B6E880\",\"#FF97FF\",\"#FECB52\"],\"font\":{\"color\":\"#2a3f5f\"},\"hovermode\":\"closest\",\"hoverlabel\":{\"align\":\"left\"},\"paper_bgcolor\":\"white\",\"plot_bgcolor\":\"#E5ECF6\",\"polar\":{\"bgcolor\":\"#E5ECF6\",\"angularaxis\":{\"gridcolor\":\"white\",\"linecolor\":\"white\",\"ticks\":\"\"},\"radialaxis\":{\"gridcolor\":\"white\",\"linecolor\":\"white\",\"ticks\":\"\"}},\"ternary\":{\"bgcolor\":\"#E5ECF6\",\"aaxis\":{\"gridcolor\":\"white\",\"linecolor\":\"white\",\"ticks\":\"\"},\"baxis\":{\"gridcolor\":\"white\",\"linecolor\":\"white\",\"ticks\":\"\"},\"caxis\":{\"gridcolor\":\"white\",\"linecolor\":\"white\",\"ticks\":\"\"}},\"coloraxis\":{\"colorbar\":{\"outlinewidth\":0,\"ticks\":\"\"}},\"colorscale\":{\"sequential\":[[0.0,\"#0d0887\"],[0.1111111111111111,\"#46039f\"],[0.2222222222222222,\"#7201a8\"],[0.3333333333333333,\"#9c179e\"],[0.4444444444444444,\"#bd3786\"],[0.5555555555555556,\"#d8576b\"],[0.6666666666666666,\"#ed7953\"],[0.7777777777777778,\"#fb9f3a\"],[0.8888888888888888,\"#fdca26\"],[1.0,\"#f0f921\"]],\"sequentialminus\":[[0.0,\"#0d0887\"],[0.1111111111111111,\"#46039f\"],[0.2222222222222222,\"#7201a8\"],[0.3333333333333333,\"#9c179e\"],[0.4444444444444444,\"#bd3786\"],[0.5555555555555556,\"#d8576b\"],[0.6666666666666666,\"#ed7953\"],[0.7777777777777778,\"#fb9f3a\"],[0.8888888888888888,\"#fdca26\"],[1.0,\"#f0f921\"]],\"diverging\":[[0,\"#8e0152\"],[0.1,\"#c51b7d\"],[0.2,\"#de77ae\"],[0.3,\"#f1b6da\"],[0.4,\"#fde0ef\"],[0.5,\"#f7f7f7\"],[0.6,\"#e6f5d0\"],[0.7,\"#b8e186\"],[0.8,\"#7fbc41\"],[0.9,\"#4d9221\"],[1,\"#276419\"]]},\"xaxis\":{\"gridcolor\":\"white\",\"linecolor\":\"white\",\"ticks\":\"\",\"title\":{\"standoff\":15},\"zerolinecolor\":\"white\",\"automargin\":true,\"zerolinewidth\":2},\"yaxis\":{\"gridcolor\":\"white\",\"linecolor\":\"white\",\"ticks\":\"\",\"title\":{\"standoff\":15},\"zerolinecolor\":\"white\",\"automargin\":true,\"zerolinewidth\":2},\"scene\":{\"xaxis\":{\"backgroundcolor\":\"#E5ECF6\",\"gridcolor\":\"white\",\"linecolor\":\"white\",\"showbackground\":true,\"ticks\":\"\",\"zerolinecolor\":\"white\",\"gridwidth\":2},\"yaxis\":{\"backgroundcolor\":\"#E5ECF6\",\"gridcolor\":\"white\",\"linecolor\":\"white\",\"showbackground\":true,\"ticks\":\"\",\"zerolinecolor\":\"white\",\"gridwidth\":2},\"zaxis\":{\"backgroundcolor\":\"#E5ECF6\",\"gridcolor\":\"white\",\"linecolor\":\"white\",\"showbackground\":true,\"ticks\":\"\",\"zerolinecolor\":\"white\",\"gridwidth\":2}},\"shapedefaults\":{\"line\":{\"color\":\"#2a3f5f\"}},\"annotationdefaults\":{\"arrowcolor\":\"#2a3f5f\",\"arrowhead\":0,\"arrowwidth\":1},\"geo\":{\"bgcolor\":\"white\",\"landcolor\":\"#E5ECF6\",\"subunitcolor\":\"white\",\"showland\":true,\"showlakes\":true,\"lakecolor\":\"white\"},\"title\":{\"x\":0.05},\"mapbox\":{\"style\":\"light\"}}}},                        {\"responsive\": true}                    ).then(function(){\n",
       "                            \n",
       "var gd = document.getElementById('ce46614b-a682-46bc-89f5-7f5e5494b1d3');\n",
       "var x = new MutationObserver(function (mutations, observer) {{\n",
       "        var display = window.getComputedStyle(gd).display;\n",
       "        if (!display || display === 'none') {{\n",
       "            console.log([gd, 'removed!']);\n",
       "            Plotly.purge(gd);\n",
       "            observer.disconnect();\n",
       "        }}\n",
       "}});\n",
       "\n",
       "// Listen for the removal of the full notebook cells\n",
       "var notebookContainer = gd.closest('#notebook-container');\n",
       "if (notebookContainer) {{\n",
       "    x.observe(notebookContainer, {childList: true});\n",
       "}}\n",
       "\n",
       "// Listen for the clearing of the current output cell\n",
       "var outputEl = gd.closest('.output');\n",
       "if (outputEl) {{\n",
       "    x.observe(outputEl, {childList: true});\n",
       "}}\n",
       "\n",
       "                        })                };                });            </script>        </div>"
      ]
     },
     "metadata": {},
     "output_type": "display_data"
    }
   ],
   "source": [
    "import plotly.graph_objects as go\n",
    "import numpy as np\n",
    "\n",
    "# Helix equation\n",
    "\n",
    "x, y, z = sim.rod_array[:,0],sim.rod_array[:,1],sim.rod_array[:,2]\n",
    "\n",
    "fig = go.Figure(data=[go.Scatter3d(x=x, y=y, z=z,\n",
    "                                   mode='markers')])\n",
    "fig.show()"
   ]
  },
  {
   "cell_type": "code",
   "execution_count": 122,
   "id": "954d5ff3",
   "metadata": {},
   "outputs": [
    {
     "data": {
      "application/vnd.plotly.v1+json": {
       "config": {
        "plotlyServerURL": "https://plot.ly"
       },
       "data": [
        {
         "hovertemplate": "species=setosa<br>sepal_length=%{x}<br>sepal_width=%{y}<br>petal_width=%{z}<extra></extra>",
         "legendgroup": "setosa",
         "marker": {
          "color": "#636efa",
          "symbol": "circle"
         },
         "mode": "markers",
         "name": "setosa",
         "scene": "scene",
         "showlegend": true,
         "type": "scatter3d",
         "x": [
          5.1,
          4.9,
          4.7,
          4.6,
          5,
          5.4,
          4.6,
          5,
          4.4,
          4.9,
          5.4,
          4.8,
          4.8,
          4.3,
          5.8,
          5.7,
          5.4,
          5.1,
          5.7,
          5.1,
          5.4,
          5.1,
          4.6,
          5.1,
          4.8,
          5,
          5,
          5.2,
          5.2,
          4.7,
          4.8,
          5.4,
          5.2,
          5.5,
          4.9,
          5,
          5.5,
          4.9,
          4.4,
          5.1,
          5,
          4.5,
          4.4,
          5,
          5.1,
          4.8,
          5.1,
          4.6,
          5.3,
          5
         ],
         "y": [
          3.5,
          3,
          3.2,
          3.1,
          3.6,
          3.9,
          3.4,
          3.4,
          2.9,
          3.1,
          3.7,
          3.4,
          3,
          3,
          4,
          4.4,
          3.9,
          3.5,
          3.8,
          3.8,
          3.4,
          3.7,
          3.6,
          3.3,
          3.4,
          3,
          3.4,
          3.5,
          3.4,
          3.2,
          3.1,
          3.4,
          4.1,
          4.2,
          3.1,
          3.2,
          3.5,
          3.1,
          3,
          3.4,
          3.5,
          2.3,
          3.2,
          3.5,
          3.8,
          3,
          3.8,
          3.2,
          3.7,
          3.3
         ],
         "z": [
          0.2,
          0.2,
          0.2,
          0.2,
          0.2,
          0.4,
          0.3,
          0.2,
          0.2,
          0.1,
          0.2,
          0.2,
          0.1,
          0.1,
          0.2,
          0.4,
          0.4,
          0.3,
          0.3,
          0.3,
          0.2,
          0.4,
          0.2,
          0.5,
          0.2,
          0.2,
          0.4,
          0.2,
          0.2,
          0.2,
          0.2,
          0.4,
          0.1,
          0.2,
          0.1,
          0.2,
          0.2,
          0.1,
          0.2,
          0.2,
          0.3,
          0.3,
          0.2,
          0.6,
          0.4,
          0.3,
          0.2,
          0.2,
          0.2,
          0.2
         ]
        },
        {
         "hovertemplate": "species=versicolor<br>sepal_length=%{x}<br>sepal_width=%{y}<br>petal_width=%{z}<extra></extra>",
         "legendgroup": "versicolor",
         "marker": {
          "color": "#EF553B",
          "symbol": "circle"
         },
         "mode": "markers",
         "name": "versicolor",
         "scene": "scene",
         "showlegend": true,
         "type": "scatter3d",
         "x": [
          7,
          6.4,
          6.9,
          5.5,
          6.5,
          5.7,
          6.3,
          4.9,
          6.6,
          5.2,
          5,
          5.9,
          6,
          6.1,
          5.6,
          6.7,
          5.6,
          5.8,
          6.2,
          5.6,
          5.9,
          6.1,
          6.3,
          6.1,
          6.4,
          6.6,
          6.8,
          6.7,
          6,
          5.7,
          5.5,
          5.5,
          5.8,
          6,
          5.4,
          6,
          6.7,
          6.3,
          5.6,
          5.5,
          5.5,
          6.1,
          5.8,
          5,
          5.6,
          5.7,
          5.7,
          6.2,
          5.1,
          5.7
         ],
         "y": [
          3.2,
          3.2,
          3.1,
          2.3,
          2.8,
          2.8,
          3.3,
          2.4,
          2.9,
          2.7,
          2,
          3,
          2.2,
          2.9,
          2.9,
          3.1,
          3,
          2.7,
          2.2,
          2.5,
          3.2,
          2.8,
          2.5,
          2.8,
          2.9,
          3,
          2.8,
          3,
          2.9,
          2.6,
          2.4,
          2.4,
          2.7,
          2.7,
          3,
          3.4,
          3.1,
          2.3,
          3,
          2.5,
          2.6,
          3,
          2.6,
          2.3,
          2.7,
          3,
          2.9,
          2.9,
          2.5,
          2.8
         ],
         "z": [
          1.4,
          1.5,
          1.5,
          1.3,
          1.5,
          1.3,
          1.6,
          1,
          1.3,
          1.4,
          1,
          1.5,
          1,
          1.4,
          1.3,
          1.4,
          1.5,
          1,
          1.5,
          1.1,
          1.8,
          1.3,
          1.5,
          1.2,
          1.3,
          1.4,
          1.4,
          1.7,
          1.5,
          1,
          1.1,
          1,
          1.2,
          1.6,
          1.5,
          1.6,
          1.5,
          1.3,
          1.3,
          1.3,
          1.2,
          1.4,
          1.2,
          1,
          1.3,
          1.2,
          1.3,
          1.3,
          1.1,
          1.3
         ]
        },
        {
         "hovertemplate": "species=virginica<br>sepal_length=%{x}<br>sepal_width=%{y}<br>petal_width=%{z}<extra></extra>",
         "legendgroup": "virginica",
         "marker": {
          "color": "#00cc96",
          "symbol": "circle"
         },
         "mode": "markers",
         "name": "virginica",
         "scene": "scene",
         "showlegend": true,
         "type": "scatter3d",
         "x": [
          6.3,
          5.8,
          7.1,
          6.3,
          6.5,
          7.6,
          4.9,
          7.3,
          6.7,
          7.2,
          6.5,
          6.4,
          6.8,
          5.7,
          5.8,
          6.4,
          6.5,
          7.7,
          7.7,
          6,
          6.9,
          5.6,
          7.7,
          6.3,
          6.7,
          7.2,
          6.2,
          6.1,
          6.4,
          7.2,
          7.4,
          7.9,
          6.4,
          6.3,
          6.1,
          7.7,
          6.3,
          6.4,
          6,
          6.9,
          6.7,
          6.9,
          5.8,
          6.8,
          6.7,
          6.7,
          6.3,
          6.5,
          6.2,
          5.9
         ],
         "y": [
          3.3,
          2.7,
          3,
          2.9,
          3,
          3,
          2.5,
          2.9,
          2.5,
          3.6,
          3.2,
          2.7,
          3,
          2.5,
          2.8,
          3.2,
          3,
          3.8,
          2.6,
          2.2,
          3.2,
          2.8,
          2.8,
          2.7,
          3.3,
          3.2,
          2.8,
          3,
          2.8,
          3,
          2.8,
          3.8,
          2.8,
          2.8,
          2.6,
          3,
          3.4,
          3.1,
          3,
          3.1,
          3.1,
          3.1,
          2.7,
          3.2,
          3.3,
          3,
          2.5,
          3,
          3.4,
          3
         ],
         "z": [
          2.5,
          1.9,
          2.1,
          1.8,
          2.2,
          2.1,
          1.7,
          1.8,
          1.8,
          2.5,
          2,
          1.9,
          2.1,
          2,
          2.4,
          2.3,
          1.8,
          2.2,
          2.3,
          1.5,
          2.3,
          2,
          2,
          1.8,
          2.1,
          1.8,
          1.8,
          1.8,
          2.1,
          1.6,
          1.9,
          2,
          2.2,
          1.5,
          1.4,
          2.3,
          2.4,
          1.8,
          1.8,
          2.1,
          2.4,
          2.3,
          1.9,
          2.3,
          2.5,
          2.3,
          1.9,
          2,
          2.3,
          1.8
         ]
        }
       ],
       "layout": {
        "legend": {
         "title": {
          "text": "species"
         },
         "tracegroupgap": 0
        },
        "margin": {
         "t": 60
        },
        "scene": {
         "domain": {
          "x": [
           0,
           1
          ],
          "y": [
           0,
           1
          ]
         },
         "xaxis": {
          "title": {
           "text": "sepal_length"
          }
         },
         "yaxis": {
          "title": {
           "text": "sepal_width"
          }
         },
         "zaxis": {
          "title": {
           "text": "petal_width"
          }
         }
        },
        "template": {
         "data": {
          "bar": [
           {
            "error_x": {
             "color": "#2a3f5f"
            },
            "error_y": {
             "color": "#2a3f5f"
            },
            "marker": {
             "line": {
              "color": "#E5ECF6",
              "width": 0.5
             },
             "pattern": {
              "fillmode": "overlay",
              "size": 10,
              "solidity": 0.2
             }
            },
            "type": "bar"
           }
          ],
          "barpolar": [
           {
            "marker": {
             "line": {
              "color": "#E5ECF6",
              "width": 0.5
             },
             "pattern": {
              "fillmode": "overlay",
              "size": 10,
              "solidity": 0.2
             }
            },
            "type": "barpolar"
           }
          ],
          "carpet": [
           {
            "aaxis": {
             "endlinecolor": "#2a3f5f",
             "gridcolor": "white",
             "linecolor": "white",
             "minorgridcolor": "white",
             "startlinecolor": "#2a3f5f"
            },
            "baxis": {
             "endlinecolor": "#2a3f5f",
             "gridcolor": "white",
             "linecolor": "white",
             "minorgridcolor": "white",
             "startlinecolor": "#2a3f5f"
            },
            "type": "carpet"
           }
          ],
          "choropleth": [
           {
            "colorbar": {
             "outlinewidth": 0,
             "ticks": ""
            },
            "type": "choropleth"
           }
          ],
          "contour": [
           {
            "colorbar": {
             "outlinewidth": 0,
             "ticks": ""
            },
            "colorscale": [
             [
              0,
              "#0d0887"
             ],
             [
              0.1111111111111111,
              "#46039f"
             ],
             [
              0.2222222222222222,
              "#7201a8"
             ],
             [
              0.3333333333333333,
              "#9c179e"
             ],
             [
              0.4444444444444444,
              "#bd3786"
             ],
             [
              0.5555555555555556,
              "#d8576b"
             ],
             [
              0.6666666666666666,
              "#ed7953"
             ],
             [
              0.7777777777777778,
              "#fb9f3a"
             ],
             [
              0.8888888888888888,
              "#fdca26"
             ],
             [
              1,
              "#f0f921"
             ]
            ],
            "type": "contour"
           }
          ],
          "contourcarpet": [
           {
            "colorbar": {
             "outlinewidth": 0,
             "ticks": ""
            },
            "type": "contourcarpet"
           }
          ],
          "heatmap": [
           {
            "colorbar": {
             "outlinewidth": 0,
             "ticks": ""
            },
            "colorscale": [
             [
              0,
              "#0d0887"
             ],
             [
              0.1111111111111111,
              "#46039f"
             ],
             [
              0.2222222222222222,
              "#7201a8"
             ],
             [
              0.3333333333333333,
              "#9c179e"
             ],
             [
              0.4444444444444444,
              "#bd3786"
             ],
             [
              0.5555555555555556,
              "#d8576b"
             ],
             [
              0.6666666666666666,
              "#ed7953"
             ],
             [
              0.7777777777777778,
              "#fb9f3a"
             ],
             [
              0.8888888888888888,
              "#fdca26"
             ],
             [
              1,
              "#f0f921"
             ]
            ],
            "type": "heatmap"
           }
          ],
          "heatmapgl": [
           {
            "colorbar": {
             "outlinewidth": 0,
             "ticks": ""
            },
            "colorscale": [
             [
              0,
              "#0d0887"
             ],
             [
              0.1111111111111111,
              "#46039f"
             ],
             [
              0.2222222222222222,
              "#7201a8"
             ],
             [
              0.3333333333333333,
              "#9c179e"
             ],
             [
              0.4444444444444444,
              "#bd3786"
             ],
             [
              0.5555555555555556,
              "#d8576b"
             ],
             [
              0.6666666666666666,
              "#ed7953"
             ],
             [
              0.7777777777777778,
              "#fb9f3a"
             ],
             [
              0.8888888888888888,
              "#fdca26"
             ],
             [
              1,
              "#f0f921"
             ]
            ],
            "type": "heatmapgl"
           }
          ],
          "histogram": [
           {
            "marker": {
             "pattern": {
              "fillmode": "overlay",
              "size": 10,
              "solidity": 0.2
             }
            },
            "type": "histogram"
           }
          ],
          "histogram2d": [
           {
            "colorbar": {
             "outlinewidth": 0,
             "ticks": ""
            },
            "colorscale": [
             [
              0,
              "#0d0887"
             ],
             [
              0.1111111111111111,
              "#46039f"
             ],
             [
              0.2222222222222222,
              "#7201a8"
             ],
             [
              0.3333333333333333,
              "#9c179e"
             ],
             [
              0.4444444444444444,
              "#bd3786"
             ],
             [
              0.5555555555555556,
              "#d8576b"
             ],
             [
              0.6666666666666666,
              "#ed7953"
             ],
             [
              0.7777777777777778,
              "#fb9f3a"
             ],
             [
              0.8888888888888888,
              "#fdca26"
             ],
             [
              1,
              "#f0f921"
             ]
            ],
            "type": "histogram2d"
           }
          ],
          "histogram2dcontour": [
           {
            "colorbar": {
             "outlinewidth": 0,
             "ticks": ""
            },
            "colorscale": [
             [
              0,
              "#0d0887"
             ],
             [
              0.1111111111111111,
              "#46039f"
             ],
             [
              0.2222222222222222,
              "#7201a8"
             ],
             [
              0.3333333333333333,
              "#9c179e"
             ],
             [
              0.4444444444444444,
              "#bd3786"
             ],
             [
              0.5555555555555556,
              "#d8576b"
             ],
             [
              0.6666666666666666,
              "#ed7953"
             ],
             [
              0.7777777777777778,
              "#fb9f3a"
             ],
             [
              0.8888888888888888,
              "#fdca26"
             ],
             [
              1,
              "#f0f921"
             ]
            ],
            "type": "histogram2dcontour"
           }
          ],
          "mesh3d": [
           {
            "colorbar": {
             "outlinewidth": 0,
             "ticks": ""
            },
            "type": "mesh3d"
           }
          ],
          "parcoords": [
           {
            "line": {
             "colorbar": {
              "outlinewidth": 0,
              "ticks": ""
             }
            },
            "type": "parcoords"
           }
          ],
          "pie": [
           {
            "automargin": true,
            "type": "pie"
           }
          ],
          "scatter": [
           {
            "fillpattern": {
             "fillmode": "overlay",
             "size": 10,
             "solidity": 0.2
            },
            "type": "scatter"
           }
          ],
          "scatter3d": [
           {
            "line": {
             "colorbar": {
              "outlinewidth": 0,
              "ticks": ""
             }
            },
            "marker": {
             "colorbar": {
              "outlinewidth": 0,
              "ticks": ""
             }
            },
            "type": "scatter3d"
           }
          ],
          "scattercarpet": [
           {
            "marker": {
             "colorbar": {
              "outlinewidth": 0,
              "ticks": ""
             }
            },
            "type": "scattercarpet"
           }
          ],
          "scattergeo": [
           {
            "marker": {
             "colorbar": {
              "outlinewidth": 0,
              "ticks": ""
             }
            },
            "type": "scattergeo"
           }
          ],
          "scattergl": [
           {
            "marker": {
             "colorbar": {
              "outlinewidth": 0,
              "ticks": ""
             }
            },
            "type": "scattergl"
           }
          ],
          "scattermapbox": [
           {
            "marker": {
             "colorbar": {
              "outlinewidth": 0,
              "ticks": ""
             }
            },
            "type": "scattermapbox"
           }
          ],
          "scatterpolar": [
           {
            "marker": {
             "colorbar": {
              "outlinewidth": 0,
              "ticks": ""
             }
            },
            "type": "scatterpolar"
           }
          ],
          "scatterpolargl": [
           {
            "marker": {
             "colorbar": {
              "outlinewidth": 0,
              "ticks": ""
             }
            },
            "type": "scatterpolargl"
           }
          ],
          "scatterternary": [
           {
            "marker": {
             "colorbar": {
              "outlinewidth": 0,
              "ticks": ""
             }
            },
            "type": "scatterternary"
           }
          ],
          "surface": [
           {
            "colorbar": {
             "outlinewidth": 0,
             "ticks": ""
            },
            "colorscale": [
             [
              0,
              "#0d0887"
             ],
             [
              0.1111111111111111,
              "#46039f"
             ],
             [
              0.2222222222222222,
              "#7201a8"
             ],
             [
              0.3333333333333333,
              "#9c179e"
             ],
             [
              0.4444444444444444,
              "#bd3786"
             ],
             [
              0.5555555555555556,
              "#d8576b"
             ],
             [
              0.6666666666666666,
              "#ed7953"
             ],
             [
              0.7777777777777778,
              "#fb9f3a"
             ],
             [
              0.8888888888888888,
              "#fdca26"
             ],
             [
              1,
              "#f0f921"
             ]
            ],
            "type": "surface"
           }
          ],
          "table": [
           {
            "cells": {
             "fill": {
              "color": "#EBF0F8"
             },
             "line": {
              "color": "white"
             }
            },
            "header": {
             "fill": {
              "color": "#C8D4E3"
             },
             "line": {
              "color": "white"
             }
            },
            "type": "table"
           }
          ]
         },
         "layout": {
          "annotationdefaults": {
           "arrowcolor": "#2a3f5f",
           "arrowhead": 0,
           "arrowwidth": 1
          },
          "autotypenumbers": "strict",
          "coloraxis": {
           "colorbar": {
            "outlinewidth": 0,
            "ticks": ""
           }
          },
          "colorscale": {
           "diverging": [
            [
             0,
             "#8e0152"
            ],
            [
             0.1,
             "#c51b7d"
            ],
            [
             0.2,
             "#de77ae"
            ],
            [
             0.3,
             "#f1b6da"
            ],
            [
             0.4,
             "#fde0ef"
            ],
            [
             0.5,
             "#f7f7f7"
            ],
            [
             0.6,
             "#e6f5d0"
            ],
            [
             0.7,
             "#b8e186"
            ],
            [
             0.8,
             "#7fbc41"
            ],
            [
             0.9,
             "#4d9221"
            ],
            [
             1,
             "#276419"
            ]
           ],
           "sequential": [
            [
             0,
             "#0d0887"
            ],
            [
             0.1111111111111111,
             "#46039f"
            ],
            [
             0.2222222222222222,
             "#7201a8"
            ],
            [
             0.3333333333333333,
             "#9c179e"
            ],
            [
             0.4444444444444444,
             "#bd3786"
            ],
            [
             0.5555555555555556,
             "#d8576b"
            ],
            [
             0.6666666666666666,
             "#ed7953"
            ],
            [
             0.7777777777777778,
             "#fb9f3a"
            ],
            [
             0.8888888888888888,
             "#fdca26"
            ],
            [
             1,
             "#f0f921"
            ]
           ],
           "sequentialminus": [
            [
             0,
             "#0d0887"
            ],
            [
             0.1111111111111111,
             "#46039f"
            ],
            [
             0.2222222222222222,
             "#7201a8"
            ],
            [
             0.3333333333333333,
             "#9c179e"
            ],
            [
             0.4444444444444444,
             "#bd3786"
            ],
            [
             0.5555555555555556,
             "#d8576b"
            ],
            [
             0.6666666666666666,
             "#ed7953"
            ],
            [
             0.7777777777777778,
             "#fb9f3a"
            ],
            [
             0.8888888888888888,
             "#fdca26"
            ],
            [
             1,
             "#f0f921"
            ]
           ]
          },
          "colorway": [
           "#636efa",
           "#EF553B",
           "#00cc96",
           "#ab63fa",
           "#FFA15A",
           "#19d3f3",
           "#FF6692",
           "#B6E880",
           "#FF97FF",
           "#FECB52"
          ],
          "font": {
           "color": "#2a3f5f"
          },
          "geo": {
           "bgcolor": "white",
           "lakecolor": "white",
           "landcolor": "#E5ECF6",
           "showlakes": true,
           "showland": true,
           "subunitcolor": "white"
          },
          "hoverlabel": {
           "align": "left"
          },
          "hovermode": "closest",
          "mapbox": {
           "style": "light"
          },
          "paper_bgcolor": "white",
          "plot_bgcolor": "#E5ECF6",
          "polar": {
           "angularaxis": {
            "gridcolor": "white",
            "linecolor": "white",
            "ticks": ""
           },
           "bgcolor": "#E5ECF6",
           "radialaxis": {
            "gridcolor": "white",
            "linecolor": "white",
            "ticks": ""
           }
          },
          "scene": {
           "xaxis": {
            "backgroundcolor": "#E5ECF6",
            "gridcolor": "white",
            "gridwidth": 2,
            "linecolor": "white",
            "showbackground": true,
            "ticks": "",
            "zerolinecolor": "white"
           },
           "yaxis": {
            "backgroundcolor": "#E5ECF6",
            "gridcolor": "white",
            "gridwidth": 2,
            "linecolor": "white",
            "showbackground": true,
            "ticks": "",
            "zerolinecolor": "white"
           },
           "zaxis": {
            "backgroundcolor": "#E5ECF6",
            "gridcolor": "white",
            "gridwidth": 2,
            "linecolor": "white",
            "showbackground": true,
            "ticks": "",
            "zerolinecolor": "white"
           }
          },
          "shapedefaults": {
           "line": {
            "color": "#2a3f5f"
           }
          },
          "ternary": {
           "aaxis": {
            "gridcolor": "white",
            "linecolor": "white",
            "ticks": ""
           },
           "baxis": {
            "gridcolor": "white",
            "linecolor": "white",
            "ticks": ""
           },
           "bgcolor": "#E5ECF6",
           "caxis": {
            "gridcolor": "white",
            "linecolor": "white",
            "ticks": ""
           }
          },
          "title": {
           "x": 0.05
          },
          "xaxis": {
           "automargin": true,
           "gridcolor": "white",
           "linecolor": "white",
           "ticks": "",
           "title": {
            "standoff": 15
           },
           "zerolinecolor": "white",
           "zerolinewidth": 2
          },
          "yaxis": {
           "automargin": true,
           "gridcolor": "white",
           "linecolor": "white",
           "ticks": "",
           "title": {
            "standoff": 15
           },
           "zerolinecolor": "white",
           "zerolinewidth": 2
          }
         }
        }
       }
      },
      "text/html": [
       "<div>                            <div id=\"7ded5c2c-f2b6-4c3e-9fb6-3fefb9c56f39\" class=\"plotly-graph-div\" style=\"height:525px; width:100%;\"></div>            <script type=\"text/javascript\">                require([\"plotly\"], function(Plotly) {                    window.PLOTLYENV=window.PLOTLYENV || {};                                    if (document.getElementById(\"7ded5c2c-f2b6-4c3e-9fb6-3fefb9c56f39\")) {                    Plotly.newPlot(                        \"7ded5c2c-f2b6-4c3e-9fb6-3fefb9c56f39\",                        [{\"hovertemplate\":\"species=setosa<br>sepal_length=%{x}<br>sepal_width=%{y}<br>petal_width=%{z}<extra></extra>\",\"legendgroup\":\"setosa\",\"marker\":{\"color\":\"#636efa\",\"symbol\":\"circle\"},\"mode\":\"markers\",\"name\":\"setosa\",\"scene\":\"scene\",\"showlegend\":true,\"x\":[5.1,4.9,4.7,4.6,5.0,5.4,4.6,5.0,4.4,4.9,5.4,4.8,4.8,4.3,5.8,5.7,5.4,5.1,5.7,5.1,5.4,5.1,4.6,5.1,4.8,5.0,5.0,5.2,5.2,4.7,4.8,5.4,5.2,5.5,4.9,5.0,5.5,4.9,4.4,5.1,5.0,4.5,4.4,5.0,5.1,4.8,5.1,4.6,5.3,5.0],\"y\":[3.5,3.0,3.2,3.1,3.6,3.9,3.4,3.4,2.9,3.1,3.7,3.4,3.0,3.0,4.0,4.4,3.9,3.5,3.8,3.8,3.4,3.7,3.6,3.3,3.4,3.0,3.4,3.5,3.4,3.2,3.1,3.4,4.1,4.2,3.1,3.2,3.5,3.1,3.0,3.4,3.5,2.3,3.2,3.5,3.8,3.0,3.8,3.2,3.7,3.3],\"z\":[0.2,0.2,0.2,0.2,0.2,0.4,0.3,0.2,0.2,0.1,0.2,0.2,0.1,0.1,0.2,0.4,0.4,0.3,0.3,0.3,0.2,0.4,0.2,0.5,0.2,0.2,0.4,0.2,0.2,0.2,0.2,0.4,0.1,0.2,0.1,0.2,0.2,0.1,0.2,0.2,0.3,0.3,0.2,0.6,0.4,0.3,0.2,0.2,0.2,0.2],\"type\":\"scatter3d\"},{\"hovertemplate\":\"species=versicolor<br>sepal_length=%{x}<br>sepal_width=%{y}<br>petal_width=%{z}<extra></extra>\",\"legendgroup\":\"versicolor\",\"marker\":{\"color\":\"#EF553B\",\"symbol\":\"circle\"},\"mode\":\"markers\",\"name\":\"versicolor\",\"scene\":\"scene\",\"showlegend\":true,\"x\":[7.0,6.4,6.9,5.5,6.5,5.7,6.3,4.9,6.6,5.2,5.0,5.9,6.0,6.1,5.6,6.7,5.6,5.8,6.2,5.6,5.9,6.1,6.3,6.1,6.4,6.6,6.8,6.7,6.0,5.7,5.5,5.5,5.8,6.0,5.4,6.0,6.7,6.3,5.6,5.5,5.5,6.1,5.8,5.0,5.6,5.7,5.7,6.2,5.1,5.7],\"y\":[3.2,3.2,3.1,2.3,2.8,2.8,3.3,2.4,2.9,2.7,2.0,3.0,2.2,2.9,2.9,3.1,3.0,2.7,2.2,2.5,3.2,2.8,2.5,2.8,2.9,3.0,2.8,3.0,2.9,2.6,2.4,2.4,2.7,2.7,3.0,3.4,3.1,2.3,3.0,2.5,2.6,3.0,2.6,2.3,2.7,3.0,2.9,2.9,2.5,2.8],\"z\":[1.4,1.5,1.5,1.3,1.5,1.3,1.6,1.0,1.3,1.4,1.0,1.5,1.0,1.4,1.3,1.4,1.5,1.0,1.5,1.1,1.8,1.3,1.5,1.2,1.3,1.4,1.4,1.7,1.5,1.0,1.1,1.0,1.2,1.6,1.5,1.6,1.5,1.3,1.3,1.3,1.2,1.4,1.2,1.0,1.3,1.2,1.3,1.3,1.1,1.3],\"type\":\"scatter3d\"},{\"hovertemplate\":\"species=virginica<br>sepal_length=%{x}<br>sepal_width=%{y}<br>petal_width=%{z}<extra></extra>\",\"legendgroup\":\"virginica\",\"marker\":{\"color\":\"#00cc96\",\"symbol\":\"circle\"},\"mode\":\"markers\",\"name\":\"virginica\",\"scene\":\"scene\",\"showlegend\":true,\"x\":[6.3,5.8,7.1,6.3,6.5,7.6,4.9,7.3,6.7,7.2,6.5,6.4,6.8,5.7,5.8,6.4,6.5,7.7,7.7,6.0,6.9,5.6,7.7,6.3,6.7,7.2,6.2,6.1,6.4,7.2,7.4,7.9,6.4,6.3,6.1,7.7,6.3,6.4,6.0,6.9,6.7,6.9,5.8,6.8,6.7,6.7,6.3,6.5,6.2,5.9],\"y\":[3.3,2.7,3.0,2.9,3.0,3.0,2.5,2.9,2.5,3.6,3.2,2.7,3.0,2.5,2.8,3.2,3.0,3.8,2.6,2.2,3.2,2.8,2.8,2.7,3.3,3.2,2.8,3.0,2.8,3.0,2.8,3.8,2.8,2.8,2.6,3.0,3.4,3.1,3.0,3.1,3.1,3.1,2.7,3.2,3.3,3.0,2.5,3.0,3.4,3.0],\"z\":[2.5,1.9,2.1,1.8,2.2,2.1,1.7,1.8,1.8,2.5,2.0,1.9,2.1,2.0,2.4,2.3,1.8,2.2,2.3,1.5,2.3,2.0,2.0,1.8,2.1,1.8,1.8,1.8,2.1,1.6,1.9,2.0,2.2,1.5,1.4,2.3,2.4,1.8,1.8,2.1,2.4,2.3,1.9,2.3,2.5,2.3,1.9,2.0,2.3,1.8],\"type\":\"scatter3d\"}],                        {\"template\":{\"data\":{\"histogram2dcontour\":[{\"type\":\"histogram2dcontour\",\"colorbar\":{\"outlinewidth\":0,\"ticks\":\"\"},\"colorscale\":[[0.0,\"#0d0887\"],[0.1111111111111111,\"#46039f\"],[0.2222222222222222,\"#7201a8\"],[0.3333333333333333,\"#9c179e\"],[0.4444444444444444,\"#bd3786\"],[0.5555555555555556,\"#d8576b\"],[0.6666666666666666,\"#ed7953\"],[0.7777777777777778,\"#fb9f3a\"],[0.8888888888888888,\"#fdca26\"],[1.0,\"#f0f921\"]]}],\"choropleth\":[{\"type\":\"choropleth\",\"colorbar\":{\"outlinewidth\":0,\"ticks\":\"\"}}],\"histogram2d\":[{\"type\":\"histogram2d\",\"colorbar\":{\"outlinewidth\":0,\"ticks\":\"\"},\"colorscale\":[[0.0,\"#0d0887\"],[0.1111111111111111,\"#46039f\"],[0.2222222222222222,\"#7201a8\"],[0.3333333333333333,\"#9c179e\"],[0.4444444444444444,\"#bd3786\"],[0.5555555555555556,\"#d8576b\"],[0.6666666666666666,\"#ed7953\"],[0.7777777777777778,\"#fb9f3a\"],[0.8888888888888888,\"#fdca26\"],[1.0,\"#f0f921\"]]}],\"heatmap\":[{\"type\":\"heatmap\",\"colorbar\":{\"outlinewidth\":0,\"ticks\":\"\"},\"colorscale\":[[0.0,\"#0d0887\"],[0.1111111111111111,\"#46039f\"],[0.2222222222222222,\"#7201a8\"],[0.3333333333333333,\"#9c179e\"],[0.4444444444444444,\"#bd3786\"],[0.5555555555555556,\"#d8576b\"],[0.6666666666666666,\"#ed7953\"],[0.7777777777777778,\"#fb9f3a\"],[0.8888888888888888,\"#fdca26\"],[1.0,\"#f0f921\"]]}],\"heatmapgl\":[{\"type\":\"heatmapgl\",\"colorbar\":{\"outlinewidth\":0,\"ticks\":\"\"},\"colorscale\":[[0.0,\"#0d0887\"],[0.1111111111111111,\"#46039f\"],[0.2222222222222222,\"#7201a8\"],[0.3333333333333333,\"#9c179e\"],[0.4444444444444444,\"#bd3786\"],[0.5555555555555556,\"#d8576b\"],[0.6666666666666666,\"#ed7953\"],[0.7777777777777778,\"#fb9f3a\"],[0.8888888888888888,\"#fdca26\"],[1.0,\"#f0f921\"]]}],\"contourcarpet\":[{\"type\":\"contourcarpet\",\"colorbar\":{\"outlinewidth\":0,\"ticks\":\"\"}}],\"contour\":[{\"type\":\"contour\",\"colorbar\":{\"outlinewidth\":0,\"ticks\":\"\"},\"colorscale\":[[0.0,\"#0d0887\"],[0.1111111111111111,\"#46039f\"],[0.2222222222222222,\"#7201a8\"],[0.3333333333333333,\"#9c179e\"],[0.4444444444444444,\"#bd3786\"],[0.5555555555555556,\"#d8576b\"],[0.6666666666666666,\"#ed7953\"],[0.7777777777777778,\"#fb9f3a\"],[0.8888888888888888,\"#fdca26\"],[1.0,\"#f0f921\"]]}],\"surface\":[{\"type\":\"surface\",\"colorbar\":{\"outlinewidth\":0,\"ticks\":\"\"},\"colorscale\":[[0.0,\"#0d0887\"],[0.1111111111111111,\"#46039f\"],[0.2222222222222222,\"#7201a8\"],[0.3333333333333333,\"#9c179e\"],[0.4444444444444444,\"#bd3786\"],[0.5555555555555556,\"#d8576b\"],[0.6666666666666666,\"#ed7953\"],[0.7777777777777778,\"#fb9f3a\"],[0.8888888888888888,\"#fdca26\"],[1.0,\"#f0f921\"]]}],\"mesh3d\":[{\"type\":\"mesh3d\",\"colorbar\":{\"outlinewidth\":0,\"ticks\":\"\"}}],\"scatter\":[{\"fillpattern\":{\"fillmode\":\"overlay\",\"size\":10,\"solidity\":0.2},\"type\":\"scatter\"}],\"parcoords\":[{\"type\":\"parcoords\",\"line\":{\"colorbar\":{\"outlinewidth\":0,\"ticks\":\"\"}}}],\"scatterpolargl\":[{\"type\":\"scatterpolargl\",\"marker\":{\"colorbar\":{\"outlinewidth\":0,\"ticks\":\"\"}}}],\"bar\":[{\"error_x\":{\"color\":\"#2a3f5f\"},\"error_y\":{\"color\":\"#2a3f5f\"},\"marker\":{\"line\":{\"color\":\"#E5ECF6\",\"width\":0.5},\"pattern\":{\"fillmode\":\"overlay\",\"size\":10,\"solidity\":0.2}},\"type\":\"bar\"}],\"scattergeo\":[{\"type\":\"scattergeo\",\"marker\":{\"colorbar\":{\"outlinewidth\":0,\"ticks\":\"\"}}}],\"scatterpolar\":[{\"type\":\"scatterpolar\",\"marker\":{\"colorbar\":{\"outlinewidth\":0,\"ticks\":\"\"}}}],\"histogram\":[{\"marker\":{\"pattern\":{\"fillmode\":\"overlay\",\"size\":10,\"solidity\":0.2}},\"type\":\"histogram\"}],\"scattergl\":[{\"type\":\"scattergl\",\"marker\":{\"colorbar\":{\"outlinewidth\":0,\"ticks\":\"\"}}}],\"scatter3d\":[{\"type\":\"scatter3d\",\"line\":{\"colorbar\":{\"outlinewidth\":0,\"ticks\":\"\"}},\"marker\":{\"colorbar\":{\"outlinewidth\":0,\"ticks\":\"\"}}}],\"scattermapbox\":[{\"type\":\"scattermapbox\",\"marker\":{\"colorbar\":{\"outlinewidth\":0,\"ticks\":\"\"}}}],\"scatterternary\":[{\"type\":\"scatterternary\",\"marker\":{\"colorbar\":{\"outlinewidth\":0,\"ticks\":\"\"}}}],\"scattercarpet\":[{\"type\":\"scattercarpet\",\"marker\":{\"colorbar\":{\"outlinewidth\":0,\"ticks\":\"\"}}}],\"carpet\":[{\"aaxis\":{\"endlinecolor\":\"#2a3f5f\",\"gridcolor\":\"white\",\"linecolor\":\"white\",\"minorgridcolor\":\"white\",\"startlinecolor\":\"#2a3f5f\"},\"baxis\":{\"endlinecolor\":\"#2a3f5f\",\"gridcolor\":\"white\",\"linecolor\":\"white\",\"minorgridcolor\":\"white\",\"startlinecolor\":\"#2a3f5f\"},\"type\":\"carpet\"}],\"table\":[{\"cells\":{\"fill\":{\"color\":\"#EBF0F8\"},\"line\":{\"color\":\"white\"}},\"header\":{\"fill\":{\"color\":\"#C8D4E3\"},\"line\":{\"color\":\"white\"}},\"type\":\"table\"}],\"barpolar\":[{\"marker\":{\"line\":{\"color\":\"#E5ECF6\",\"width\":0.5},\"pattern\":{\"fillmode\":\"overlay\",\"size\":10,\"solidity\":0.2}},\"type\":\"barpolar\"}],\"pie\":[{\"automargin\":true,\"type\":\"pie\"}]},\"layout\":{\"autotypenumbers\":\"strict\",\"colorway\":[\"#636efa\",\"#EF553B\",\"#00cc96\",\"#ab63fa\",\"#FFA15A\",\"#19d3f3\",\"#FF6692\",\"#B6E880\",\"#FF97FF\",\"#FECB52\"],\"font\":{\"color\":\"#2a3f5f\"},\"hovermode\":\"closest\",\"hoverlabel\":{\"align\":\"left\"},\"paper_bgcolor\":\"white\",\"plot_bgcolor\":\"#E5ECF6\",\"polar\":{\"bgcolor\":\"#E5ECF6\",\"angularaxis\":{\"gridcolor\":\"white\",\"linecolor\":\"white\",\"ticks\":\"\"},\"radialaxis\":{\"gridcolor\":\"white\",\"linecolor\":\"white\",\"ticks\":\"\"}},\"ternary\":{\"bgcolor\":\"#E5ECF6\",\"aaxis\":{\"gridcolor\":\"white\",\"linecolor\":\"white\",\"ticks\":\"\"},\"baxis\":{\"gridcolor\":\"white\",\"linecolor\":\"white\",\"ticks\":\"\"},\"caxis\":{\"gridcolor\":\"white\",\"linecolor\":\"white\",\"ticks\":\"\"}},\"coloraxis\":{\"colorbar\":{\"outlinewidth\":0,\"ticks\":\"\"}},\"colorscale\":{\"sequential\":[[0.0,\"#0d0887\"],[0.1111111111111111,\"#46039f\"],[0.2222222222222222,\"#7201a8\"],[0.3333333333333333,\"#9c179e\"],[0.4444444444444444,\"#bd3786\"],[0.5555555555555556,\"#d8576b\"],[0.6666666666666666,\"#ed7953\"],[0.7777777777777778,\"#fb9f3a\"],[0.8888888888888888,\"#fdca26\"],[1.0,\"#f0f921\"]],\"sequentialminus\":[[0.0,\"#0d0887\"],[0.1111111111111111,\"#46039f\"],[0.2222222222222222,\"#7201a8\"],[0.3333333333333333,\"#9c179e\"],[0.4444444444444444,\"#bd3786\"],[0.5555555555555556,\"#d8576b\"],[0.6666666666666666,\"#ed7953\"],[0.7777777777777778,\"#fb9f3a\"],[0.8888888888888888,\"#fdca26\"],[1.0,\"#f0f921\"]],\"diverging\":[[0,\"#8e0152\"],[0.1,\"#c51b7d\"],[0.2,\"#de77ae\"],[0.3,\"#f1b6da\"],[0.4,\"#fde0ef\"],[0.5,\"#f7f7f7\"],[0.6,\"#e6f5d0\"],[0.7,\"#b8e186\"],[0.8,\"#7fbc41\"],[0.9,\"#4d9221\"],[1,\"#276419\"]]},\"xaxis\":{\"gridcolor\":\"white\",\"linecolor\":\"white\",\"ticks\":\"\",\"title\":{\"standoff\":15},\"zerolinecolor\":\"white\",\"automargin\":true,\"zerolinewidth\":2},\"yaxis\":{\"gridcolor\":\"white\",\"linecolor\":\"white\",\"ticks\":\"\",\"title\":{\"standoff\":15},\"zerolinecolor\":\"white\",\"automargin\":true,\"zerolinewidth\":2},\"scene\":{\"xaxis\":{\"backgroundcolor\":\"#E5ECF6\",\"gridcolor\":\"white\",\"linecolor\":\"white\",\"showbackground\":true,\"ticks\":\"\",\"zerolinecolor\":\"white\",\"gridwidth\":2},\"yaxis\":{\"backgroundcolor\":\"#E5ECF6\",\"gridcolor\":\"white\",\"linecolor\":\"white\",\"showbackground\":true,\"ticks\":\"\",\"zerolinecolor\":\"white\",\"gridwidth\":2},\"zaxis\":{\"backgroundcolor\":\"#E5ECF6\",\"gridcolor\":\"white\",\"linecolor\":\"white\",\"showbackground\":true,\"ticks\":\"\",\"zerolinecolor\":\"white\",\"gridwidth\":2}},\"shapedefaults\":{\"line\":{\"color\":\"#2a3f5f\"}},\"annotationdefaults\":{\"arrowcolor\":\"#2a3f5f\",\"arrowhead\":0,\"arrowwidth\":1},\"geo\":{\"bgcolor\":\"white\",\"landcolor\":\"#E5ECF6\",\"subunitcolor\":\"white\",\"showland\":true,\"showlakes\":true,\"lakecolor\":\"white\"},\"title\":{\"x\":0.05},\"mapbox\":{\"style\":\"light\"}}},\"scene\":{\"domain\":{\"x\":[0.0,1.0],\"y\":[0.0,1.0]},\"xaxis\":{\"title\":{\"text\":\"sepal_length\"}},\"yaxis\":{\"title\":{\"text\":\"sepal_width\"}},\"zaxis\":{\"title\":{\"text\":\"petal_width\"}}},\"legend\":{\"title\":{\"text\":\"species\"},\"tracegroupgap\":0},\"margin\":{\"t\":60}},                        {\"responsive\": true}                    ).then(function(){\n",
       "                            \n",
       "var gd = document.getElementById('7ded5c2c-f2b6-4c3e-9fb6-3fefb9c56f39');\n",
       "var x = new MutationObserver(function (mutations, observer) {{\n",
       "        var display = window.getComputedStyle(gd).display;\n",
       "        if (!display || display === 'none') {{\n",
       "            console.log([gd, 'removed!']);\n",
       "            Plotly.purge(gd);\n",
       "            observer.disconnect();\n",
       "        }}\n",
       "}});\n",
       "\n",
       "// Listen for the removal of the full notebook cells\n",
       "var notebookContainer = gd.closest('#notebook-container');\n",
       "if (notebookContainer) {{\n",
       "    x.observe(notebookContainer, {childList: true});\n",
       "}}\n",
       "\n",
       "// Listen for the clearing of the current output cell\n",
       "var outputEl = gd.closest('.output');\n",
       "if (outputEl) {{\n",
       "    x.observe(outputEl, {childList: true});\n",
       "}}\n",
       "\n",
       "                        })                };                });            </script>        </div>"
      ]
     },
     "metadata": {},
     "output_type": "display_data"
    }
   ],
   "source": [
    "import plotly.express as px\n",
    "df = px.data.iris()\n",
    "fig = px.scatter_3d(df, x='sepal_length', y='sepal_width', z='petal_width',\n",
    "              color='species')\n",
    "fig.show()"
   ]
  },
  {
   "cell_type": "code",
   "execution_count": 74,
   "id": "2b0372c4",
   "metadata": {},
   "outputs": [
    {
     "data": {
      "text/plain": [
       "[['associate', 0, 1, 0, 0.25],\n",
       " ['associate', 0, 2, 0, 0.25],\n",
       " ['associate', 0, 3, 0, 0.25],\n",
       " ['associate', 0, 4, 0, 0.25],\n",
       " ['associate', 0, 5, 0, 0.25],\n",
       " ['associate', 0, 6, 0, 0.25],\n",
       " ['associate', 0, 7, 0, 0.25],\n",
       " ['associate', 0, 8, 0, 0.25],\n",
       " ['associate', 0, 9, 0, 0.25],\n",
       " ['associate', 0, 10, 0, 0.25],\n",
       " ['associate', 0, 11, 0, 0.25],\n",
       " ['associate', 0, 12, 0, 0.25],\n",
       " ['associate', 0, 13, 0, 0.25],\n",
       " ['associate', 0, 14, 0, 0.25],\n",
       " ['associate', 0, 15, 0, 0.25],\n",
       " ['associate', 0, 16, 0, 0.25],\n",
       " ['associate', 0, 17, 0, 0.25],\n",
       " ['associate', 0, 18, 0, 0.25],\n",
       " ['associate', 0, 19, 0, 0.25],\n",
       " ['associate', 0, 20, 0, 0.25],\n",
       " ['associate', 0, 21, 0, 0.25],\n",
       " ['associate', 0, 22, 0, 0.25],\n",
       " ['associate', 0, 23, 0, 0.25],\n",
       " ['associate', 0, 24, 0, 0.25],\n",
       " ['associate', 0, 25, 0, 0.25],\n",
       " ['associate', 0, 26, 0, 0.25],\n",
       " ['associate', 0, 27, 0, 0.25],\n",
       " ['associate', 0, 28, 0, 0.25],\n",
       " ['associate', 0, 29, 0, 0.25],\n",
       " ['associate', 0, 30, 0, 0.25],\n",
       " ['associate', 0, 31, 0, 0.25],\n",
       " ['associate', 0, 32, 0, 0.25],\n",
       " ['associate', 0, 33, 0, 0.25],\n",
       " ['associate', 0, 34, 0, 0.25],\n",
       " ['associate', 0, 35, 0, 0.25],\n",
       " ['associate', 0, 36, 0, 0.25],\n",
       " ['associate', 0, 37, 0, 0.25],\n",
       " ['associate', 0, 38, 0, 0.25],\n",
       " ['associate', 0, 39, 0, 0.25],\n",
       " ['associate', 0, 40, 0, 0.25],\n",
       " ['associate', 0, 41, 0, 0.25],\n",
       " ['associate', 0, 42, 0, 0.25],\n",
       " ['associate', 0, 43, 0, 0.25],\n",
       " ['associate', 0, 44, 0, 0.25],\n",
       " ['associate', 0, 45, 0, 0.25],\n",
       " ['associate', 0, 46, 0, 0.25],\n",
       " ['associate', 0, 47, 0, 0.25],\n",
       " ['associate', 0, 48, 0, 0.25],\n",
       " ['associate', 0, 49, 0, 0.25],\n",
       " ['associate', 0, 50, 0, 0.25],\n",
       " ['associate', 0, 51, 0, 0.25],\n",
       " ['associate', 0, 52, 0, 0.25],\n",
       " ['associate', 0, 53, 0, 0.25],\n",
       " ['associate', 0, 54, 0, 0.25],\n",
       " ['associate', 0, 55, 0, 0.25],\n",
       " ['associate', 0, 56, 0, 0.25],\n",
       " ['associate', 0, 57, 0, 0.25],\n",
       " ['associate', 0, 58, 0, 0.25],\n",
       " ['associate', 0, 59, 0, 0.25],\n",
       " ['associate', 0, 60, 0, 0.25],\n",
       " ['associate', 0, 61, 0, 0.25],\n",
       " ['associate', 0, 62, 0, 0.25],\n",
       " ['associate', 0, 63, 0, 0.25],\n",
       " ['associate', 0, 64, 0, 0.25],\n",
       " ['associate', 0, 65, 0, 0.25],\n",
       " ['associate', 0, 66, 0, 0.25],\n",
       " ['associate', 0, 67, 0, 0.25],\n",
       " ['associate', 0, 68, 0, 0.25],\n",
       " ['associate', 0, 69, 0, 0.25],\n",
       " ['associate', 0, 70, 0, 0.25],\n",
       " ['associate', 0, 71, 0, 0.25],\n",
       " ['associate', 0, 72, 0, 0.25],\n",
       " ['associate', 0, 73, 0, 0.25],\n",
       " ['associate', 0, 74, 0, 0.25],\n",
       " ['associate', 0, 75, 0, 0.25],\n",
       " ['associate', 0, 76, 0, 0.25],\n",
       " ['associate', 0, 77, 0, 0.25],\n",
       " ['associate', 0, 78, 0, 0.25],\n",
       " ['associate', 0, 79, 0, 0.25],\n",
       " ['associate', 0, 80, 0, 0.25],\n",
       " ['associate', 0, 81, 0, 0.25],\n",
       " ['associate', 0, 82, 0, 0.25],\n",
       " ['associate', 0, 83, 0, 0.25],\n",
       " ['associate', 0, 84, 0, 0.25],\n",
       " ['associate', 0, 85, 0, 0.25],\n",
       " ['associate', 0, 86, 0, 0.25],\n",
       " ['associate', 0, 87, 0, 0.25],\n",
       " ['associate', 0, 88, 0, 0.25],\n",
       " ['associate', 0, 89, 0, 0.25],\n",
       " ['associate', 0, 90, 0, 0.25],\n",
       " ['associate', 0, 91, 0, 0.25],\n",
       " ['associate', 0, 92, 0, 0.25],\n",
       " ['associate', 0, 93, 0, 0.25],\n",
       " ['associate', 0, 94, 0, 0.25],\n",
       " ['associate', 0, 95, 0, 0.25],\n",
       " ['associate', 0, 96, 0, 0.25],\n",
       " ['associate', 0, 97, 0, 0.25],\n",
       " ['associate', 0, 98, 0, 0.25],\n",
       " ['associate', 0, 99, 0, 0.25],\n",
       " ['associate', 0, 100, 0, 0.25],\n",
       " ['associate', 0, 101, 0, 0.25],\n",
       " ['associate', 0, 102, 0, 0.25],\n",
       " ['associate', 0, 103, 0, 0.25],\n",
       " ['associate', 0, 104, 0, 0.25],\n",
       " ['associate', 0, 105, 0, 0.25],\n",
       " ['associate', 0, 106, 0, 0.25],\n",
       " ['associate', 0, 107, 0, 0.25],\n",
       " ['associate', 0, 108, 0, 0.25],\n",
       " ['associate', 0, 109, 0, 0.25],\n",
       " ['associate', 0, 110, 0, 0.25],\n",
       " ['associate', 0, 111, 0, 0.25],\n",
       " ['associate', 0, 112, 0, 0.25],\n",
       " ['associate', 0, 113, 0, 0.25],\n",
       " ['associate', 0, 114, 0, 0.25],\n",
       " ['associate', 0, 115, 0, 0.25],\n",
       " ['associate', 0, 116, 0, 0.25],\n",
       " ['associate', 0, 117, 0, 0.25],\n",
       " ['associate', 0, 118, 0, 0.25],\n",
       " ['associate', 0, 119, 0, 0.25],\n",
       " ['associate', 0, 120, 0, 0.25],\n",
       " ['associate', 0, 121, 0, 0.25],\n",
       " ['associate', 0, 122, 0, 0.25],\n",
       " ['associate', 0, 123, 0, 0.25],\n",
       " ['associate', 0, 124, 0, 0.25],\n",
       " ['associate', 0, 125, 0, 0.25],\n",
       " ['associate', 0, 126, 0, 0.25],\n",
       " ['associate', 0, 127, 0, 0.25],\n",
       " ['associate', 0, 128, 0, 0.25],\n",
       " ['associate', 0, 129, 0, 0.25],\n",
       " ['associate', 0, 130, 0, 0.25],\n",
       " ['associate', 0, 131, 0, 0.25],\n",
       " ['associate', 0, 132, 0, 0.25],\n",
       " ['associate', 0, 133, 0, 0.25],\n",
       " ['associate', 0, 134, 0, 0.25],\n",
       " ['associate', 0, 135, 0, 0.25],\n",
       " ['associate', 0, 136, 0, 0.25],\n",
       " ['associate', 0, 137, 0, 0.25],\n",
       " ['associate', 0, 138, 0, 0.25],\n",
       " ['associate', 0, 139, 0, 0.25],\n",
       " ['associate', 0, 140, 0, 0.25],\n",
       " ['associate', 0, 141, 0, 0.25],\n",
       " ['associate', 0, 142, 0, 0.25],\n",
       " ['associate', 0, 143, 0, 0.25],\n",
       " ['associate', 0, 144, 0, 0.25],\n",
       " ['associate', 0, 145, 0, 0.25],\n",
       " ['associate', 0, 146, 0, 0.25],\n",
       " ['associate', 0, 147, 0, 0.25],\n",
       " ['associate', 0, 148, 0, 0.25],\n",
       " ['associate', 0, 149, 0, 0.25],\n",
       " ['associate', 0, 150, 0, 0.25],\n",
       " ['associate', 0, 151, 0, 0.25],\n",
       " ['associate', 0, 152, 0, 0.25],\n",
       " ['associate', 0, 153, 0, 0.25],\n",
       " ['associate', 0, 154, 0, 0.25],\n",
       " ['associate', 0, 155, 0, 0.25],\n",
       " ['associate', 0, 156, 0, 0.25],\n",
       " ['associate', 0, 157, 0, 0.25],\n",
       " ['associate', 0, 158, 0, 0.25],\n",
       " ['associate', 0, 159, 0, 0.25],\n",
       " ['associate', 0, 160, 0, 0.25],\n",
       " ['associate', 0, 161, 0, 0.25],\n",
       " ['associate', 0, 162, 0, 0.25],\n",
       " ['associate', 0, 163, 0, 0.25],\n",
       " ['associate', 0, 164, 0, 0.25],\n",
       " ['associate', 0, 165, 0, 0.25],\n",
       " ['associate', 0, 166, 0, 0.25],\n",
       " ['associate', 0, 167, 0, 0.25],\n",
       " ['associate', 0, 168, 0, 0.25],\n",
       " ['associate', 0, 169, 0, 0.25],\n",
       " ['associate', 0, 170, 0, 0.25],\n",
       " ['associate', 0, 171, 0, 0.25],\n",
       " ['associate', 0, 172, 0, 0.25],\n",
       " ['associate', 0, 173, 0, 0.25],\n",
       " ['associate', 0, 174, 0, 0.25],\n",
       " ['associate', 0, 175, 0, 0.25],\n",
       " ['associate', 0, 176, 0, 0.25],\n",
       " ['associate', 0, 177, 0, 0.25],\n",
       " ['associate', 0, 178, 0, 0.25],\n",
       " ['associate', 0, 179, 0, 0.25],\n",
       " ['associate', 0, 180, 0, 0.25],\n",
       " ['associate', 0, 181, 0, 0.25],\n",
       " ['associate', 0, 182, 0, 0.25],\n",
       " ['associate', 0, 183, 0, 0.25],\n",
       " ['associate', 0, 184, 0, 0.25],\n",
       " ['associate', 0, 185, 0, 0.25],\n",
       " ['associate', 0, 186, 0, 0.25],\n",
       " ['associate', 0, 187, 0, 0.25],\n",
       " ['associate', 0, 188, 0, 0.25],\n",
       " ['associate', 0, 189, 0, 0.25],\n",
       " ['associate', 0, 190, 0, 0.25],\n",
       " ['associate', 0, 191, 0, 0.25],\n",
       " ['associate', 0, 192, 0, 0.25],\n",
       " ['associate', 0, 193, 0, 0.25],\n",
       " ['associate', 0, 194, 0, 0.25],\n",
       " ['associate', 0, 195, 0, 0.25],\n",
       " ['associate', 0, 196, 0, 0.25],\n",
       " ['associate', 0, 197, 0, 0.25],\n",
       " ['associate', 0, 198, 0, 0.25],\n",
       " ['associate', 0, 199, 0, 0.25],\n",
       " ['associate', 0, 200, 0, 0.25],\n",
       " ['associate', 0, 201, 0, 0.25],\n",
       " ['associate', 0, 202, 0, 0.25],\n",
       " ['associate', 0, 203, 0, 0.25],\n",
       " ['associate', 0, 204, 0, 0.25],\n",
       " ['associate', 0, 205, 0, 0.25],\n",
       " ['associate', 0, 206, 0, 0.25],\n",
       " ['associate', 0, 207, 0, 0.25],\n",
       " ['associate', 0, 208, 0, 0.25],\n",
       " ['associate', 0, 209, 0, 0.25],\n",
       " ['associate', 0, 210, 0, 0.25],\n",
       " ['associate', 0, 211, 0, 0.25],\n",
       " ['associate', 0, 212, 0, 0.25],\n",
       " ['associate', 0, 213, 0, 0.25],\n",
       " ['associate', 0, 214, 0, 0.25],\n",
       " ['associate', 0, 215, 0, 0.25],\n",
       " ['associate', 0, 216, 0, 0.25],\n",
       " ['associate', 0, 217, 0, 0.25],\n",
       " ['associate', 0, 218, 0, 0.25],\n",
       " ['associate', 0, 219, 0, 0.25],\n",
       " ['associate', 0, 220, 0, 0.25],\n",
       " ['associate', 0, 221, 0, 0.25],\n",
       " ['associate', 0, 222, 0, 0.25],\n",
       " ['associate', 0, 223, 0, 0.25],\n",
       " ['associate', 0, 224, 0, 0.25],\n",
       " ['associate', 0, 225, 0, 0.25],\n",
       " ['associate', 0, 226, 0, 0.25],\n",
       " ['associate', 0, 227, 0, 0.25],\n",
       " ['associate', 0, 228, 0, 0.25],\n",
       " ['associate', 0, 229, 0, 0.25],\n",
       " ['associate', 0, 230, 0, 0.25],\n",
       " ['associate', 0, 231, 0, 0.25],\n",
       " ['associate', 0, 232, 0, 0.25],\n",
       " ['associate', 0, 233, 0, 0.25],\n",
       " ['associate', 0, 234, 0, 0.25],\n",
       " ['associate', 0, 235, 0, 0.25],\n",
       " ['associate', 0, 236, 0, 0.25],\n",
       " ['associate', 0, 237, 0, 0.25],\n",
       " ['associate', 0, 238, 0, 0.25],\n",
       " ['associate', 0, 239, 0, 0.25],\n",
       " ['associate', 0, 240, 0, 0.25],\n",
       " ['associate', 0, 241, 0, 0.25],\n",
       " ['associate', 0, 242, 0, 0.25],\n",
       " ['associate', 0, 243, 0, 0.25],\n",
       " ['associate', 0, 244, 0, 0.25],\n",
       " ['associate', 0, 245, 0, 0.25],\n",
       " ['associate', 0, 246, 0, 0.25],\n",
       " ['associate', 0, 247, 0, 0.25],\n",
       " ['associate', 0, 248, 0, 0.25],\n",
       " ['associate', 0, 249, 0, 0.25],\n",
       " ['associate', 0, 250, 0, 0.25],\n",
       " ['associate', 0, 251, 0, 0.25],\n",
       " ['associate', 0, 252, 0, 0.25],\n",
       " ['associate', 0, 253, 0, 0.25],\n",
       " ['associate', 0, 254, 0, 0.25],\n",
       " ['associate', 0, 255, 0, 0.25],\n",
       " ['associate', 0, 256, 0, 0.25],\n",
       " ['associate', 0, 257, 0, 0.25],\n",
       " ['associate', 0, 258, 0, 0.25],\n",
       " ['associate', 0, 259, 0, 0.25],\n",
       " ['associate', 0, 260, 0, 0.25],\n",
       " ['associate', 0, 261, 0, 0.25],\n",
       " ['associate', 0, 262, 0, 0.25],\n",
       " ['associate', 0, 263, 0, 0.25],\n",
       " ['associate', 0, 264, 0, 0.25],\n",
       " ['associate', 0, 265, 0, 0.25],\n",
       " ['associate', 0, 266, 0, 0.25],\n",
       " ['associate', 0, 267, 0, 0.25],\n",
       " ['associate', 0, 268, 0, 0.25],\n",
       " ['associate', 0, 269, 0, 0.25],\n",
       " ['associate', 0, 270, 0, 0.25],\n",
       " ['associate', 0, 271, 0, 0.25],\n",
       " ['associate', 0, 272, 0, 0.25],\n",
       " ['associate', 0, 273, 0, 0.25],\n",
       " ['associate', 0, 274, 0, 0.25],\n",
       " ['associate', 0, 275, 0, 0.25],\n",
       " ['associate', 0, 276, 0, 0.25],\n",
       " ['associate', 0, 277, 0, 0.25],\n",
       " ['associate', 0, 278, 0, 0.25],\n",
       " ['associate', 0, 279, 0, 0.25],\n",
       " ['associate', 0, 280, 0, 0.25],\n",
       " ['associate', 0, 281, 0, 0.25],\n",
       " ['associate', 0, 282, 0, 0.25],\n",
       " ['associate', 0, 283, 0, 0.25],\n",
       " ['associate', 0, 284, 0, 0.25],\n",
       " ['associate', 0, 285, 0, 0.25],\n",
       " ['associate', 0, 286, 0, 0.25],\n",
       " ['associate', 0, 287, 0, 0.25],\n",
       " ['associate', 0, 288, 0, 0.25],\n",
       " ['associate', 0, 289, 0, 0.25],\n",
       " ['associate', 0, 290, 0, 0.25],\n",
       " ['associate', 0, 291, 0, 0.25],\n",
       " ['associate', 0, 292, 0, 0.25],\n",
       " ['associate', 0, 293, 0, 0.25],\n",
       " ['associate', 0, 294, 0, 0.25],\n",
       " ['associate', 0, 295, 0, 0.25],\n",
       " ['associate', 0, 296, 0, 0.25],\n",
       " ['associate', 0, 297, 0, 0.25],\n",
       " ['associate', 0, 298, 0, 0.25],\n",
       " ['associate', 0, 299, 0, 0.25],\n",
       " ['associate', 0, 300, 0, 0.25],\n",
       " ['associate', 0, 301, 0, 0.25],\n",
       " ['associate', 0, 302, 0, 0.25],\n",
       " ['associate', 0, 303, 0, 0.25],\n",
       " ['associate', 0, 304, 0, 0.25],\n",
       " ['associate', 0, 305, 0, 0.25],\n",
       " ['associate', 0, 306, 0, 0.25],\n",
       " ['associate', 0, 307, 0, 0.25],\n",
       " ['associate', 0, 308, 0, 0.25],\n",
       " ['associate', 0, 309, 0, 0.25],\n",
       " ['associate', 0, 310, 0, 0.25],\n",
       " ['associate', 0, 311, 0, 0.25],\n",
       " ['associate', 0, 312, 0, 0.25],\n",
       " ['associate', 0, 313, 0, 0.25],\n",
       " ['associate', 0, 314, 0, 0.25],\n",
       " ['associate', 0, 315, 0, 0.25],\n",
       " ['associate', 0, 316, 0, 0.25],\n",
       " ['associate', 0, 317, 0, 0.25],\n",
       " ['associate', 0, 318, 0, 0.25],\n",
       " ['associate', 0, 319, 0, 0.25],\n",
       " ['associate', 0, 320, 0, 0.25],\n",
       " ['associate', 0, 321, 0, 0.25],\n",
       " ['associate', 0, 322, 0, 0.25],\n",
       " ['associate', 0, 323, 0, 0.25],\n",
       " ['associate', 0, 324, 0, 0.25],\n",
       " ['associate', 0, 325, 0, 0.25],\n",
       " ['associate', 0, 326, 0, 0.25],\n",
       " ['associate', 0, 327, 0, 0.25],\n",
       " ['associate', 0, 328, 0, 0.25],\n",
       " ['associate', 0, 329, 0, 0.25],\n",
       " ['associate', 0, 330, 0, 0.25],\n",
       " ['associate', 0, 331, 0, 0.25],\n",
       " ['associate', 0, 332, 0, 0.25],\n",
       " ['associate', 0, 333, 0, 0.25],\n",
       " ['associate', 0, 334, 0, 0.25],\n",
       " ['associate', 0, 335, 0, 0.25],\n",
       " ['associate', 0, 336, 0, 0.25],\n",
       " ['associate', 0, 337, 0, 0.25],\n",
       " ['associate', 0, 338, 0, 0.25],\n",
       " ['associate', 0, 339, 0, 0.25],\n",
       " ['associate', 0, 340, 0, 0.25],\n",
       " ['associate', 0, 341, 0, 0.25],\n",
       " ['associate', 0, 342, 0, 0.25],\n",
       " ['associate', 0, 343, 0, 0.25],\n",
       " ['associate', 0, 344, 0, 0.25],\n",
       " ['associate', 0, 345, 0, 0.25],\n",
       " ['associate', 0, 346, 0, 0.25],\n",
       " ['associate', 0, 347, 0, 0.25],\n",
       " ['associate', 0, 348, 0, 0.25],\n",
       " ['associate', 0, 349, 0, 0.25],\n",
       " ['associate', 0, 350, 0, 0.25],\n",
       " ['associate', 0, 351, 0, 0.25],\n",
       " ['associate', 0, 352, 0, 0.25],\n",
       " ['associate', 0, 353, 0, 0.25],\n",
       " ['associate', 0, 354, 0, 0.25],\n",
       " ['associate', 0, 355, 0, 0.25],\n",
       " ['associate', 0, 356, 0, 0.25],\n",
       " ['associate', 0, 357, 0, 0.25],\n",
       " ['associate', 0, 358, 0, 0.25],\n",
       " ['associate', 0, 359, 0, 0.25],\n",
       " ['associate', 0, 360, 0, 0.25],\n",
       " ['associate', 0, 361, 0, 0.25],\n",
       " ['associate', 0, 362, 0, 0.25],\n",
       " ['associate', 0, 363, 0, 0.25],\n",
       " ['associate', 0, 364, 0, 0.25],\n",
       " ['associate', 0, 365, 0, 0.25],\n",
       " ['associate', 0, 366, 0, 0.25],\n",
       " ['associate', 0, 367, 0, 0.25],\n",
       " ['associate', 0, 368, 0, 0.25],\n",
       " ['associate', 0, 369, 0, 0.25],\n",
       " ['associate', 0, 370, 0, 0.25],\n",
       " ['associate', 0, 371, 0, 0.25],\n",
       " ['associate', 0, 372, 0, 0.25],\n",
       " ['associate', 0, 373, 0, 0.25],\n",
       " ['associate', 0, 374, 0, 0.25],\n",
       " ['associate', 0, 375, 0, 0.25],\n",
       " ['associate', 0, 376, 0, 0.25],\n",
       " ['associate', 0, 377, 0, 0.25],\n",
       " ['associate', 0, 378, 0, 0.25],\n",
       " ['associate', 0, 379, 0, 0.25],\n",
       " ['associate', 0, 380, 0, 0.25],\n",
       " ['associate', 0, 381, 0, 0.25],\n",
       " ['associate', 0, 382, 0, 0.25],\n",
       " ['associate', 0, 383, 0, 0.25],\n",
       " ['associate', 0, 384, 0, 0.25],\n",
       " ['associate', 0, 385, 0, 0.25],\n",
       " ['associate', 0, 386, 0, 0.25],\n",
       " ['associate', 0, 387, 0, 0.25],\n",
       " ['associate', 0, 388, 0, 0.25],\n",
       " ['associate', 0, 389, 0, 0.25],\n",
       " ['associate', 0, 390, 0, 0.25],\n",
       " ['associate', 0, 391, 0, 0.25],\n",
       " ['associate', 0, 392, 0, 0.25],\n",
       " ['associate', 0, 393, 0, 0.25],\n",
       " ['associate', 0, 394, 0, 0.25],\n",
       " ['associate', 0, 395, 0, 0.25],\n",
       " ['associate', 0, 396, 0, 0.25],\n",
       " ['associate', 0, 397, 0, 0.25],\n",
       " ['associate', 0, 398, 0, 0.25],\n",
       " ['associate', 0, 399, 0, 0.25],\n",
       " ['associate', 0, 400, 0, 0.25],\n",
       " ['associate', 0, 401, 0, 0.25],\n",
       " ['associate', 0, 402, 0, 0.25],\n",
       " ['associate', 0, 403, 0, 0.25],\n",
       " ['associate', 0, 404, 0, 0.25],\n",
       " ['associate', 0, 405, 0, 0.25],\n",
       " ['associate', 0, 406, 0, 0.25],\n",
       " ['associate', 0, 407, 0, 0.25],\n",
       " ['associate', 0, 408, 0, 0.25],\n",
       " ['associate', 0, 409, 0, 0.25],\n",
       " ['associate', 0, 410, 0, 0.25],\n",
       " ['associate', 0, 411, 0, 0.25],\n",
       " ['associate', 0, 412, 0, 0.25],\n",
       " ['associate', 0, 413, 0, 0.25],\n",
       " ['associate', 0, 414, 0, 0.25],\n",
       " ['associate', 0, 415, 0, 0.25],\n",
       " ['associate', 0, 416, 0, 0.25],\n",
       " ['associate', 0, 417, 0, 0.25],\n",
       " ['associate', 0, 418, 0, 0.25],\n",
       " ['associate', 0, 419, 0, 0.25],\n",
       " ['associate', 0, 420, 0, 0.25],\n",
       " ['associate', 0, 421, 0, 0.25],\n",
       " ['associate', 0, 422, 0, 0.25],\n",
       " ['associate', 0, 423, 0, 0.25],\n",
       " ['associate', 0, 424, 0, 0.25],\n",
       " ['associate', 0, 425, 0, 0.25],\n",
       " ['associate', 0, 426, 0, 0.25],\n",
       " ['associate', 0, 427, 0, 0.25],\n",
       " ['associate', 0, 428, 0, 0.25],\n",
       " ['associate', 0, 429, 0, 0.25],\n",
       " ['associate', 0, 430, 0, 0.25],\n",
       " ['associate', 0, 431, 0, 0.25],\n",
       " ['associate', 0, 432, 0, 0.25],\n",
       " ['associate', 0, 433, 0, 0.25],\n",
       " ['associate', 0, 434, 0, 0.25],\n",
       " ['associate', 0, 435, 0, 0.25],\n",
       " ['associate', 0, 436, 0, 0.25],\n",
       " ['associate', 0, 437, 0, 0.25],\n",
       " ['associate', 0, 438, 0, 0.25],\n",
       " ['associate', 0, 439, 0, 0.25],\n",
       " ['associate', 0, 440, 0, 0.25],\n",
       " ['associate', 0, 441, 0, 0.25],\n",
       " ['associate', 0, 442, 0, 0.25],\n",
       " ['associate', 0, 443, 0, 0.25],\n",
       " ['associate', 0, 444, 0, 0.25],\n",
       " ['associate', 0, 445, 0, 0.25],\n",
       " ['associate', 0, 446, 0, 0.25],\n",
       " ['associate', 0, 447, 0, 0.25],\n",
       " ['associate', 0, 448, 0, 0.25],\n",
       " ['associate', 0, 449, 0, 0.25],\n",
       " ['associate', 0, 450, 0, 0.25],\n",
       " ['associate', 0, 451, 0, 0.25],\n",
       " ['associate', 0, 452, 0, 0.25],\n",
       " ['associate', 0, 453, 0, 0.25],\n",
       " ['associate', 0, 454, 0, 0.25],\n",
       " ['associate', 0, 455, 0, 0.25],\n",
       " ['associate', 0, 456, 0, 0.25],\n",
       " ['associate', 0, 457, 0, 0.25],\n",
       " ['associate', 0, 458, 0, 0.25],\n",
       " ['associate', 0, 459, 0, 0.25],\n",
       " ['associate', 0, 460, 0, 0.25],\n",
       " ['associate', 0, 461, 0, 0.25],\n",
       " ['associate', 0, 462, 0, 0.25],\n",
       " ['associate', 0, 463, 0, 0.25],\n",
       " ['associate', 0, 464, 0, 0.25],\n",
       " ['associate', 0, 465, 0, 0.25],\n",
       " ['associate', 0, 466, 0, 0.25],\n",
       " ['associate', 0, 467, 0, 0.25],\n",
       " ['associate', 0, 468, 0, 0.25],\n",
       " ['associate', 0, 469, 0, 0.25],\n",
       " ['associate', 0, 470, 0, 0.25],\n",
       " ['associate', 0, 471, 0, 0.25],\n",
       " ['associate', 0, 472, 0, 0.25],\n",
       " ['associate', 0, 473, 0, 0.25],\n",
       " ['associate', 0, 474, 0, 0.25],\n",
       " ['associate', 0, 475, 0, 0.25],\n",
       " ['associate', 0, 476, 0, 0.25],\n",
       " ['associate', 0, 477, 0, 0.25],\n",
       " ['associate', 0, 478, 0, 0.25],\n",
       " ['associate', 0, 479, 0, 0.25],\n",
       " ['associate', 0, 480, 0, 0.25],\n",
       " ['associate', 0, 481, 0, 0.25],\n",
       " ['associate', 0, 482, 0, 0.25],\n",
       " ['associate', 0, 483, 0, 0.25],\n",
       " ['associate', 0, 484, 0, 0.25],\n",
       " ['associate', 0, 485, 0, 0.25],\n",
       " ['associate', 0, 486, 0, 0.25],\n",
       " ['associate', 0, 487, 0, 0.25],\n",
       " ['associate', 0, 488, 0, 0.25],\n",
       " ['associate', 0, 489, 0, 0.25],\n",
       " ['associate', 0, 490, 0, 0.25],\n",
       " ['associate', 0, 491, 0, 0.25],\n",
       " ['associate', 0, 492, 0, 0.25],\n",
       " ['associate', 0, 493, 0, 0.25],\n",
       " ['associate', 0, 494, 0, 0.25],\n",
       " ['associate', 0, 495, 0, 0.25],\n",
       " ['associate', 0, 496, 0, 0.25],\n",
       " ['associate', 0, 497, 0, 0.25],\n",
       " ['associate', 0, 498, 0, 0.25],\n",
       " ['associate', 0, 499, 0, 0.25],\n",
       " ['associate', 0, 500, 0, 0.25],\n",
       " ['associate', 0, 501, 0, 0.25],\n",
       " ['associate', 0, 502, 0, 0.25],\n",
       " ['associate', 0, 503, 0, 0.25],\n",
       " ['associate', 0, 504, 0, 0.25],\n",
       " ['associate', 0, 505, 0, 0.25],\n",
       " ['associate', 0, 506, 0, 0.25],\n",
       " ['associate', 0, 507, 0, 0.25],\n",
       " ['associate', 0, 508, 0, 0.25],\n",
       " ['associate', 0, 509, 0, 0.25],\n",
       " ['associate', 0, 510, 0, 0.25],\n",
       " ['associate', 0, 511, 0, 0.25],\n",
       " ['associate', 0, 512, 0, 0.25],\n",
       " ['associate', 0, 513, 0, 0.25],\n",
       " ['associate', 0, 514, 0, 0.25],\n",
       " ['associate', 0, 515, 0, 0.25],\n",
       " ['associate', 0, 516, 0, 0.25],\n",
       " ['associate', 0, 517, 0, 0.25],\n",
       " ['associate', 0, 518, 0, 0.25],\n",
       " ['associate', 0, 519, 0, 0.25],\n",
       " ['associate', 0, 520, 0, 0.25],\n",
       " ['associate', 0, 521, 0, 0.25],\n",
       " ['associate', 0, 522, 0, 0.25],\n",
       " ['associate', 0, 523, 0, 0.25],\n",
       " ['associate', 0, 524, 0, 0.25],\n",
       " ['associate', 0, 525, 0, 0.25],\n",
       " ['associate', 0, 526, 0, 0.25],\n",
       " ['associate', 0, 527, 0, 0.25],\n",
       " ['associate', 0, 528, 0, 0.25],\n",
       " ['associate', 0, 529, 0, 0.25],\n",
       " ['associate', 0, 530, 0, 0.25],\n",
       " ['associate', 0, 531, 0, 0.25],\n",
       " ['associate', 0, 532, 0, 0.25],\n",
       " ['associate', 0, 533, 0, 0.25],\n",
       " ['associate', 0, 534, 0, 0.25],\n",
       " ['associate', 0, 535, 0, 0.25],\n",
       " ['associate', 0, 536, 0, 0.25],\n",
       " ['associate', 0, 537, 0, 0.25],\n",
       " ['associate', 0, 538, 0, 0.25],\n",
       " ['associate', 0, 539, 0, 0.25],\n",
       " ['associate', 0, 540, 0, 0.25],\n",
       " ['associate', 0, 541, 0, 0.25],\n",
       " ['associate', 0, 542, 0, 0.25],\n",
       " ['associate', 0, 543, 0, 0.25],\n",
       " ['associate', 0, 544, 0, 0.25],\n",
       " ['associate', 0, 545, 0, 0.25],\n",
       " ['associate', 0, 546, 0, 0.25],\n",
       " ['associate', 0, 547, 0, 0.25],\n",
       " ['associate', 0, 548, 0, 0.25],\n",
       " ['associate', 0, 549, 0, 0.25],\n",
       " ['associate', 0, 550, 0, 0.25],\n",
       " ['associate', 0, 551, 0, 0.25],\n",
       " ['associate', 0, 552, 0, 0.25],\n",
       " ['associate', 0, 553, 0, 0.25],\n",
       " ['associate', 0, 554, 0, 0.25],\n",
       " ['associate', 0, 555, 0, 0.25],\n",
       " ['associate', 0, 556, 0, 0.25],\n",
       " ['associate', 0, 557, 0, 0.25],\n",
       " ['associate', 0, 558, 0, 0.25],\n",
       " ['associate', 0, 559, 0, 0.25],\n",
       " ['associate', 0, 560, 0, 0.25],\n",
       " ['associate', 0, 561, 0, 0.25],\n",
       " ['associate', 0, 562, 0, 0.25],\n",
       " ['associate', 0, 563, 0, 0.25],\n",
       " ['associate', 0, 564, 0, 0.25],\n",
       " ['associate', 0, 565, 0, 0.25],\n",
       " ['associate', 0, 566, 0, 0.25],\n",
       " ['associate', 0, 567, 0, 0.25],\n",
       " ['associate', 0, 568, 0, 0.25],\n",
       " ['associate', 0, 569, 0, 0.25],\n",
       " ['associate', 0, 570, 0, 0.25],\n",
       " ['associate', 0, 571, 0, 0.25],\n",
       " ['associate', 0, 572, 0, 0.25],\n",
       " ['associate', 0, 573, 0, 0.25],\n",
       " ['associate', 0, 574, 0, 0.25],\n",
       " ['associate', 0, 575, 0, 0.25],\n",
       " ['associate', 0, 576, 0, 0.25],\n",
       " ['associate', 0, 577, 0, 0.25],\n",
       " ['associate', 0, 578, 0, 0.25],\n",
       " ['associate', 0, 579, 0, 0.25],\n",
       " ['associate', 0, 580, 0, 0.25],\n",
       " ['associate', 0, 581, 0, 0.25],\n",
       " ['associate', 0, 582, 0, 0.25],\n",
       " ['associate', 0, 583, 0, 0.25],\n",
       " ['associate', 0, 584, 0, 0.25],\n",
       " ['associate', 0, 585, 0, 0.25],\n",
       " ['associate', 0, 586, 0, 0.25],\n",
       " ['associate', 0, 587, 0, 0.25],\n",
       " ['associate', 0, 588, 0, 0.25],\n",
       " ['associate', 0, 589, 0, 0.25],\n",
       " ['associate', 0, 590, 0, 0.25],\n",
       " ['associate', 0, 591, 0, 0.25],\n",
       " ['associate', 0, 592, 0, 0.25],\n",
       " ['associate', 0, 593, 0, 0.25],\n",
       " ['associate', 0, 594, 0, 0.25],\n",
       " ['associate', 0, 595, 0, 0.25],\n",
       " ['associate', 0, 596, 0, 0.25],\n",
       " ['associate', 0, 597, 0, 0.25],\n",
       " ['associate', 0, 598, 0, 0.25],\n",
       " ['associate', 0, 599, 0, 0.25],\n",
       " ['associate', 0, 600, 0, 0.25],\n",
       " ['associate', 0, 601, 0, 0.25],\n",
       " ['associate', 0, 602, 0, 0.25],\n",
       " ['associate', 0, 603, 0, 0.25],\n",
       " ['associate', 0, 604, 0, 0.25],\n",
       " ['associate', 0, 605, 0, 0.25],\n",
       " ['associate', 0, 606, 0, 0.25],\n",
       " ['associate', 0, 607, 0, 0.25],\n",
       " ['associate', 0, 608, 0, 0.25],\n",
       " ['associate', 0, 609, 0, 0.25],\n",
       " ['associate', 0, 610, 0, 0.25],\n",
       " ['associate', 0, 611, 0, 0.25],\n",
       " ['associate', 0, 612, 0, 0.25],\n",
       " ['associate', 0, 613, 0, 0.25],\n",
       " ['associate', 0, 614, 0, 0.25],\n",
       " ['associate', 0, 615, 0, 0.25],\n",
       " ['associate', 0, 616, 0, 0.25],\n",
       " ['associate', 0, 617, 0, 0.25],\n",
       " ['associate', 0, 618, 0, 0.25],\n",
       " ['associate', 0, 619, 0, 0.25],\n",
       " ['associate', 0, 620, 0, 0.25],\n",
       " ['associate', 0, 621, 0, 0.25],\n",
       " ['associate', 0, 622, 0, 0.25],\n",
       " ['associate', 0, 623, 0, 0.25],\n",
       " ['associate', 0, 624, 0, 0.25],\n",
       " ['associate', 0, 625, 0, 0.25],\n",
       " ['associate', 0, 626, 0, 0.25],\n",
       " ['associate', 0, 627, 0, 0.25],\n",
       " ['associate', 0, 628, 0, 0.25],\n",
       " ['associate', 0, 629, 0, 0.25],\n",
       " ['associate', 0, 630, 0, 0.25],\n",
       " ['associate', 0, 631, 0, 0.25],\n",
       " ['associate', 0, 632, 0, 0.25],\n",
       " ['associate', 0, 633, 0, 0.25],\n",
       " ['associate', 0, 634, 0, 0.25],\n",
       " ['associate', 0, 635, 0, 0.25],\n",
       " ['associate', 0, 636, 0, 0.25],\n",
       " ['associate', 0, 637, 0, 0.25],\n",
       " ['associate', 0, 638, 0, 0.25],\n",
       " ['associate', 0, 639, 0, 0.25],\n",
       " ['associate', 0, 640, 0, 0.25],\n",
       " ['associate', 0, 641, 0, 0.25],\n",
       " ['associate', 0, 642, 0, 0.25],\n",
       " ['associate', 0, 643, 0, 0.25],\n",
       " ['associate', 0, 644, 0, 0.25],\n",
       " ['associate', 0, 645, 0, 0.25],\n",
       " ['associate', 0, 646, 0, 0.25],\n",
       " ['associate', 0, 647, 0, 0.25],\n",
       " ['associate', 0, 648, 0, 0.25],\n",
       " ['associate', 0, 649, 0, 0.25],\n",
       " ['associate', 0, 650, 0, 0.25],\n",
       " ['associate', 0, 651, 0, 0.25],\n",
       " ['associate', 0, 652, 0, 0.25],\n",
       " ['associate', 0, 653, 0, 0.25],\n",
       " ['associate', 0, 654, 0, 0.25],\n",
       " ['associate', 0, 655, 0, 0.25],\n",
       " ['associate', 0, 656, 0, 0.25],\n",
       " ['associate', 0, 657, 0, 0.25],\n",
       " ['associate', 0, 658, 0, 0.25],\n",
       " ['associate', 0, 659, 0, 0.25],\n",
       " ['associate', 0, 660, 0, 0.25],\n",
       " ['associate', 0, 661, 0, 0.25],\n",
       " ['associate', 0, 662, 0, 0.25],\n",
       " ['associate', 0, 663, 0, 0.25],\n",
       " ['associate', 0, 664, 0, 0.25],\n",
       " ['associate', 0, 665, 0, 0.25],\n",
       " ['associate', 0, 666, 0, 0.25],\n",
       " ['associate', 0, 667, 0, 0.25],\n",
       " ['associate', 0, 668, 0, 0.25],\n",
       " ['associate', 0, 669, 0, 0.25],\n",
       " ['associate', 0, 670, 0, 0.25],\n",
       " ['associate', 0, 671, 0, 0.25],\n",
       " ['associate', 0, 672, 0, 0.25],\n",
       " ['associate', 0, 673, 0, 0.25],\n",
       " ['associate', 0, 674, 0, 0.25],\n",
       " ['associate', 0, 675, 0, 0.25],\n",
       " ['associate', 0, 676, 0, 0.25],\n",
       " ['associate', 0, 677, 0, 0.25],\n",
       " ['associate', 0, 678, 0, 0.25],\n",
       " ['associate', 0, 679, 0, 0.25],\n",
       " ['associate', 0, 680, 0, 0.25],\n",
       " ['associate', 0, 681, 0, 0.25],\n",
       " ['associate', 0, 682, 0, 0.25],\n",
       " ['associate', 0, 683, 0, 0.25],\n",
       " ['associate', 0, 684, 0, 0.25],\n",
       " ['associate', 0, 685, 0, 0.25],\n",
       " ['associate', 0, 686, 0, 0.25],\n",
       " ['associate', 0, 687, 0, 0.25],\n",
       " ['associate', 0, 688, 0, 0.25],\n",
       " ['associate', 0, 689, 0, 0.25],\n",
       " ['associate', 0, 690, 0, 0.25],\n",
       " ['associate', 0, 691, 0, 0.25],\n",
       " ['associate', 0, 692, 0, 0.25],\n",
       " ['associate', 0, 693, 0, 0.25],\n",
       " ['associate', 0, 694, 0, 0.25],\n",
       " ['associate', 0, 695, 0, 0.25],\n",
       " ['associate', 0, 696, 0, 0.25],\n",
       " ['associate', 0, 697, 0, 0.25],\n",
       " ['associate', 0, 698, 0, 0.25],\n",
       " ['associate', 0, 699, 0, 0.25],\n",
       " ['associate', 0, 700, 0, 0.25],\n",
       " ['associate', 0, 701, 0, 0.25],\n",
       " ['associate', 0, 702, 0, 0.25],\n",
       " ['associate', 0, 703, 0, 0.25],\n",
       " ['associate', 0, 704, 0, 0.25],\n",
       " ['associate', 0, 705, 0, 0.25],\n",
       " ['associate', 0, 706, 0, 0.25],\n",
       " ['associate', 0, 707, 0, 0.25],\n",
       " ['associate', 0, 708, 0, 0.25],\n",
       " ['associate', 0, 709, 0, 0.25],\n",
       " ['associate', 0, 710, 0, 0.25],\n",
       " ['associate', 0, 711, 0, 0.25],\n",
       " ['associate', 0, 712, 0, 0.25],\n",
       " ['associate', 0, 713, 0, 0.25],\n",
       " ['associate', 0, 714, 0, 0.25],\n",
       " ['associate', 0, 715, 0, 0.25],\n",
       " ['associate', 0, 716, 0, 0.25],\n",
       " ['associate', 0, 717, 0, 0.25],\n",
       " ['associate', 0, 718, 0, 0.25],\n",
       " ['associate', 0, 719, 0, 0.25],\n",
       " ['associate', 0, 720, 0, 0.25],\n",
       " ['associate', 0, 721, 0, 0.25],\n",
       " ['associate', 0, 722, 0, 0.25],\n",
       " ['associate', 0, 723, 0, 0.25],\n",
       " ['associate', 0, 724, 0, 0.25],\n",
       " ['associate', 0, 725, 0, 0.25],\n",
       " ['associate', 0, 726, 0, 0.25],\n",
       " ['associate', 0, 727, 0, 0.25],\n",
       " ['associate', 0, 728, 0, 0.25],\n",
       " ['associate', 0, 729, 0, 0.25],\n",
       " ['associate', 0, 730, 0, 0.25],\n",
       " ['associate', 0, 731, 0, 0.25],\n",
       " ['associate', 0, 732, 0, 0.25],\n",
       " ['associate', 0, 733, 0, 0.25],\n",
       " ['associate', 0, 734, 0, 0.25],\n",
       " ['associate', 0, 735, 0, 0.25],\n",
       " ['associate', 0, 736, 0, 0.25],\n",
       " ['associate', 0, 737, 0, 0.25],\n",
       " ['associate', 0, 738, 0, 0.25],\n",
       " ['associate', 0, 739, 0, 0.25],\n",
       " ['associate', 0, 740, 0, 0.25],\n",
       " ['associate', 0, 741, 0, 0.25],\n",
       " ['associate', 0, 742, 0, 0.25],\n",
       " ['associate', 0, 743, 0, 0.25],\n",
       " ['associate', 0, 744, 0, 0.25],\n",
       " ['associate', 0, 745, 0, 0.25],\n",
       " ['associate', 0, 746, 0, 0.25],\n",
       " ['associate', 0, 747, 0, 0.25],\n",
       " ['associate', 0, 748, 0, 0.25],\n",
       " ['associate', 0, 749, 0, 0.25],\n",
       " ['associate', 0, 750, 0, 0.25],\n",
       " ['associate', 0, 751, 0, 0.25],\n",
       " ['associate', 0, 752, 0, 0.25],\n",
       " ['associate', 0, 753, 0, 0.25],\n",
       " ['associate', 0, 754, 0, 0.25],\n",
       " ['associate', 0, 755, 0, 0.25],\n",
       " ['associate', 0, 756, 0, 0.25],\n",
       " ['associate', 0, 757, 0, 0.25],\n",
       " ['associate', 0, 758, 0, 0.25],\n",
       " ['associate', 0, 759, 0, 0.25],\n",
       " ['associate', 0, 760, 0, 0.25],\n",
       " ['associate', 0, 761, 0, 0.25],\n",
       " ['associate', 0, 762, 0, 0.25],\n",
       " ['associate', 0, 763, 0, 0.25],\n",
       " ['associate', 0, 764, 0, 0.25],\n",
       " ['associate', 0, 765, 0, 0.25],\n",
       " ['associate', 0, 766, 0, 0.25],\n",
       " ['associate', 0, 767, 0, 0.25],\n",
       " ['associate', 0, 768, 0, 0.25],\n",
       " ['associate', 0, 769, 0, 0.25],\n",
       " ['associate', 0, 770, 0, 0.25],\n",
       " ['associate', 0, 771, 0, 0.25],\n",
       " ['associate', 0, 772, 0, 0.25],\n",
       " ['associate', 0, 773, 0, 0.25],\n",
       " ['associate', 0, 774, 0, 0.25],\n",
       " ['associate', 0, 775, 0, 0.25],\n",
       " ['associate', 0, 776, 0, 0.25],\n",
       " ['associate', 0, 777, 0, 0.25],\n",
       " ['associate', 0, 778, 0, 0.25],\n",
       " ['associate', 0, 779, 0, 0.25],\n",
       " ['associate', 0, 780, 0, 0.25],\n",
       " ['associate', 0, 781, 0, 0.25],\n",
       " ['associate', 0, 782, 0, 0.25],\n",
       " ['associate', 0, 783, 0, 0.25],\n",
       " ['associate', 0, 784, 0, 0.25],\n",
       " ['associate', 0, 785, 0, 0.25],\n",
       " ['associate', 0, 786, 0, 0.25],\n",
       " ['associate', 0, 787, 0, 0.25],\n",
       " ['associate', 0, 788, 0, 0.25],\n",
       " ['associate', 0, 789, 0, 0.25],\n",
       " ['associate', 0, 790, 0, 0.25],\n",
       " ['associate', 0, 791, 0, 0.25],\n",
       " ['associate', 0, 792, 0, 0.25],\n",
       " ['associate', 0, 793, 0, 0.25],\n",
       " ['associate', 0, 794, 0, 0.25],\n",
       " ['associate', 0, 795, 0, 0.25],\n",
       " ['associate', 0, 796, 0, 0.25],\n",
       " ['associate', 0, 797, 0, 0.25],\n",
       " ['associate', 0, 798, 0, 0.25],\n",
       " ['associate', 0, 799, 0, 0.25],\n",
       " ['associate', 0, 800, 0, 0.25],\n",
       " ['associate', 0, 801, 0, 0.25],\n",
       " ['associate', 0, 802, 0, 0.25],\n",
       " ['associate', 0, 803, 0, 0.25],\n",
       " ['associate', 0, 804, 0, 0.25],\n",
       " ['associate', 0, 805, 0, 0.25],\n",
       " ['associate', 0, 806, 0, 0.25],\n",
       " ['associate', 0, 807, 0, 0.25],\n",
       " ['associate', 0, 808, 0, 0.25],\n",
       " ['associate', 0, 809, 0, 0.25],\n",
       " ['associate', 0, 810, 0, 0.25],\n",
       " ['associate', 0, 811, 0, 0.25],\n",
       " ['associate', 0, 812, 0, 0.25],\n",
       " ['associate', 0, 813, 0, 0.25],\n",
       " ['associate', 0, 814, 0, 0.25],\n",
       " ['associate', 0, 815, 0, 0.25],\n",
       " ['associate', 0, 816, 0, 0.25],\n",
       " ['associate', 0, 817, 0, 0.25],\n",
       " ['associate', 0, 818, 0, 0.25],\n",
       " ['associate', 0, 819, 0, 0.25],\n",
       " ['associate', 0, 820, 0, 0.25],\n",
       " ['associate', 0, 821, 0, 0.25],\n",
       " ['associate', 0, 822, 0, 0.25],\n",
       " ['associate', 0, 823, 0, 0.25],\n",
       " ['associate', 0, 824, 0, 0.25],\n",
       " ['associate', 0, 825, 0, 0.25],\n",
       " ['associate', 0, 826, 0, 0.25],\n",
       " ['associate', 0, 827, 0, 0.25],\n",
       " ['associate', 0, 828, 0, 0.25],\n",
       " ['associate', 0, 829, 0, 0.25],\n",
       " ['associate', 0, 830, 0, 0.25],\n",
       " ['associate', 0, 831, 0, 0.25],\n",
       " ['associate', 0, 832, 0, 0.25],\n",
       " ['associate', 0, 833, 0, 0.25],\n",
       " ['associate', 0, 834, 0, 0.25],\n",
       " ['associate', 0, 835, 0, 0.25],\n",
       " ['associate', 0, 836, 0, 0.25],\n",
       " ['associate', 0, 837, 0, 0.25],\n",
       " ['associate', 0, 838, 0, 0.25],\n",
       " ['associate', 0, 839, 0, 0.25],\n",
       " ['associate', 0, 840, 0, 0.25],\n",
       " ['associate', 0, 841, 0, 0.25],\n",
       " ['associate', 0, 842, 0, 0.25],\n",
       " ['associate', 0, 843, 0, 0.25],\n",
       " ['associate', 0, 844, 0, 0.25],\n",
       " ['associate', 0, 845, 0, 0.25],\n",
       " ['associate', 0, 846, 0, 0.25],\n",
       " ['associate', 0, 847, 0, 0.25],\n",
       " ['associate', 0, 848, 0, 0.25],\n",
       " ['associate', 0, 849, 0, 0.25],\n",
       " ['associate', 0, 850, 0, 0.25],\n",
       " ['associate', 0, 851, 0, 0.25],\n",
       " ['associate', 0, 852, 0, 0.25],\n",
       " ['associate', 0, 853, 0, 0.25],\n",
       " ['associate', 0, 854, 0, 0.25],\n",
       " ['associate', 0, 855, 0, 0.25],\n",
       " ['associate', 0, 856, 0, 0.25],\n",
       " ['associate', 0, 857, 0, 0.25],\n",
       " ['associate', 0, 858, 0, 0.25],\n",
       " ['associate', 0, 859, 0, 0.25],\n",
       " ['associate', 0, 860, 0, 0.25],\n",
       " ['associate', 0, 861, 0, 0.25],\n",
       " ['associate', 0, 862, 0, 0.25],\n",
       " ['associate', 0, 863, 0, 0.25],\n",
       " ['associate', 0, 864, 0, 0.25],\n",
       " ['associate', 0, 865, 0, 0.25],\n",
       " ['associate', 0, 866, 0, 0.25],\n",
       " ['associate', 0, 867, 0, 0.25],\n",
       " ['associate', 0, 868, 0, 0.25],\n",
       " ['associate', 0, 869, 0, 0.25],\n",
       " ['associate', 0, 870, 0, 0.25],\n",
       " ['associate', 0, 871, 0, 0.25],\n",
       " ['associate', 0, 872, 0, 0.25],\n",
       " ['associate', 0, 873, 0, 0.25],\n",
       " ['associate', 0, 874, 0, 0.25],\n",
       " ['associate', 0, 875, 0, 0.25],\n",
       " ['associate', 0, 876, 0, 0.25],\n",
       " ['associate', 0, 877, 0, 0.25],\n",
       " ['associate', 0, 878, 0, 0.25],\n",
       " ['associate', 0, 879, 0, 0.25],\n",
       " ['associate', 0, 880, 0, 0.25],\n",
       " ['associate', 0, 881, 0, 0.25],\n",
       " ['associate', 0, 882, 0, 0.25],\n",
       " ['associate', 0, 883, 0, 0.25],\n",
       " ['associate', 0, 884, 0, 0.25],\n",
       " ['associate', 0, 885, 0, 0.25],\n",
       " ['associate', 0, 886, 0, 0.25],\n",
       " ['associate', 0, 887, 0, 0.25],\n",
       " ['associate', 0, 888, 0, 0.25],\n",
       " ['associate', 0, 889, 0, 0.25],\n",
       " ['associate', 0, 890, 0, 0.25],\n",
       " ['associate', 0, 891, 0, 0.25],\n",
       " ['associate', 0, 892, 0, 0.25],\n",
       " ['associate', 0, 893, 0, 0.25],\n",
       " ['associate', 0, 894, 0, 0.25],\n",
       " ['associate', 0, 895, 0, 0.25],\n",
       " ['associate', 0, 896, 0, 0.25],\n",
       " ['associate', 0, 897, 0, 0.25],\n",
       " ['associate', 0, 898, 0, 0.25],\n",
       " ['associate', 0, 899, 0, 0.25],\n",
       " ['associate', 0, 900, 0, 0.25],\n",
       " ['associate', 0, 901, 0, 0.25],\n",
       " ['associate', 0, 902, 0, 0.25],\n",
       " ['associate', 0, 903, 0, 0.25],\n",
       " ['associate', 0, 904, 0, 0.25],\n",
       " ['associate', 0, 905, 0, 0.25],\n",
       " ['associate', 0, 906, 0, 0.25],\n",
       " ['associate', 0, 907, 0, 0.25],\n",
       " ['associate', 0, 908, 0, 0.25],\n",
       " ['associate', 0, 909, 0, 0.25],\n",
       " ['associate', 0, 910, 0, 0.25],\n",
       " ['associate', 0, 911, 0, 0.25],\n",
       " ['associate', 0, 912, 0, 0.25],\n",
       " ['associate', 0, 913, 0, 0.25],\n",
       " ['associate', 0, 914, 0, 0.25],\n",
       " ['associate', 0, 915, 0, 0.25],\n",
       " ['associate', 0, 916, 0, 0.25],\n",
       " ['associate', 0, 917, 0, 0.25],\n",
       " ['associate', 0, 918, 0, 0.25],\n",
       " ['associate', 0, 919, 0, 0.25],\n",
       " ['associate', 0, 920, 0, 0.25],\n",
       " ['associate', 0, 921, 0, 0.25],\n",
       " ['associate', 0, 922, 0, 0.25],\n",
       " ['associate', 0, 923, 0, 0.25],\n",
       " ['associate', 0, 924, 0, 0.25],\n",
       " ['associate', 0, 925, 0, 0.25],\n",
       " ['associate', 0, 926, 0, 0.25],\n",
       " ['associate', 0, 927, 0, 0.25],\n",
       " ['associate', 0, 928, 0, 0.25],\n",
       " ['associate', 0, 929, 0, 0.25],\n",
       " ['associate', 0, 930, 0, 0.25],\n",
       " ['associate', 0, 931, 0, 0.25],\n",
       " ['associate', 0, 932, 0, 0.25],\n",
       " ['associate', 0, 933, 0, 0.25],\n",
       " ['associate', 0, 934, 0, 0.25],\n",
       " ['associate', 0, 935, 0, 0.25],\n",
       " ['associate', 0, 936, 0, 0.25],\n",
       " ['associate', 0, 937, 0, 0.25],\n",
       " ['associate', 0, 938, 0, 0.25],\n",
       " ['associate', 0, 939, 0, 0.25],\n",
       " ['associate', 0, 940, 0, 0.25],\n",
       " ['associate', 0, 941, 0, 0.25],\n",
       " ['associate', 0, 942, 0, 0.25],\n",
       " ['associate', 0, 943, 0, 0.25],\n",
       " ['associate', 0, 944, 0, 0.25],\n",
       " ['associate', 0, 945, 0, 0.25],\n",
       " ['associate', 0, 946, 0, 0.25],\n",
       " ['associate', 0, 947, 0, 0.25],\n",
       " ['associate', 0, 948, 0, 0.25],\n",
       " ['associate', 0, 949, 0, 0.25],\n",
       " ['associate', 0, 950, 0, 0.25],\n",
       " ['associate', 0, 951, 0, 0.25],\n",
       " ['associate', 0, 952, 0, 0.25],\n",
       " ['associate', 0, 953, 0, 0.25],\n",
       " ['associate', 0, 954, 0, 0.25],\n",
       " ['associate', 0, 955, 0, 0.25],\n",
       " ['associate', 0, 956, 0, 0.25],\n",
       " ['associate', 0, 957, 0, 0.25],\n",
       " ['associate', 0, 958, 0, 0.25],\n",
       " ['associate', 0, 959, 0, 0.25],\n",
       " ['associate', 0, 960, 0, 0.25],\n",
       " ['associate', 0, 961, 0, 0.25],\n",
       " ['associate', 0, 962, 0, 0.25],\n",
       " ['associate', 0, 963, 0, 0.25],\n",
       " ['associate', 0, 964, 0, 0.25],\n",
       " ['associate', 0, 965, 0, 0.25],\n",
       " ['associate', 0, 966, 0, 0.25],\n",
       " ['associate', 0, 967, 0, 0.25],\n",
       " ['associate', 0, 968, 0, 0.25],\n",
       " ['associate', 0, 969, 0, 0.25],\n",
       " ['associate', 0, 970, 0, 0.25],\n",
       " ['associate', 0, 971, 0, 0.25],\n",
       " ['associate', 0, 972, 0, 0.25],\n",
       " ['associate', 0, 973, 0, 0.25],\n",
       " ['associate', 0, 974, 0, 0.25],\n",
       " ['associate', 0, 975, 0, 0.25],\n",
       " ['associate', 0, 976, 0, 0.25],\n",
       " ['associate', 0, 977, 0, 0.25],\n",
       " ['associate', 0, 978, 0, 0.25],\n",
       " ['associate', 0, 979, 0, 0.25],\n",
       " ['associate', 0, 980, 0, 0.25],\n",
       " ['associate', 0, 981, 0, 0.25],\n",
       " ['associate', 0, 983, 0, 0.25],\n",
       " ['associate', 0, 985, 0, 0.25],\n",
       " ['associate', 0, 986, 0, 0.25],\n",
       " ['associate', 1, 2, 0, 0.25],\n",
       " ['associate', 1, 3, 0, 0.25],\n",
       " ['associate', 1, 4, 0, 0.25],\n",
       " ['associate', 1, 5, 0, 0.25],\n",
       " ['associate', 1, 6, 0, 0.25],\n",
       " ['associate', 1, 7, 0, 0.25],\n",
       " ['associate', 1, 8, 0, 0.25],\n",
       " ['associate', 1, 9, 0, 0.25],\n",
       " ['associate', 1, 10, 0, 0.25],\n",
       " ['associate', 1, 11, 0, 0.25],\n",
       " ['associate', 1, 12, 0, 0.25],\n",
       " ['associate', 1, 13, 0, 0.25],\n",
       " ['associate', 1, 14, 0, 0.25],\n",
       " ['associate', 1, 15, 0, 0.25],\n",
       " ['associate', 1, 16, 0, 0.25],\n",
       " ['associate', 1, 17, 0, 0.25],\n",
       " ...]"
      ]
     },
     "execution_count": 74,
     "metadata": {},
     "output_type": "execute_result"
    }
   ],
   "source": [
    "sim.events"
   ]
  },
  {
   "cell_type": "code",
   "execution_count": 38,
   "id": "303c891d",
   "metadata": {},
   "outputs": [
    {
     "data": {
      "text/plain": [
       "array([0, 1, 3])"
      ]
     },
     "execution_count": 38,
     "metadata": {},
     "output_type": "execute_result"
    }
   ],
   "source": [
    "np.where(indice==0)[0]"
   ]
  },
  {
   "cell_type": "code",
   "execution_count": 39,
   "id": "a8a607ed",
   "metadata": {},
   "outputs": [],
   "source": [
    "index_same=np.where(indice==0)[0]"
   ]
  },
  {
   "cell_type": "code",
   "execution_count": 41,
   "id": "3b20d5d7",
   "metadata": {},
   "outputs": [],
   "source": [
    "events=[]\n",
    "for j in range(0,index_same.shape[0]-1):\n",
    "                    for k in range(j+1,index_same.shape[0]):\n",
    "                        events.append([index_same[j],index_same[k]])"
   ]
  },
  {
   "cell_type": "code",
   "execution_count": 42,
   "id": "d26b8aa1",
   "metadata": {},
   "outputs": [
    {
     "data": {
      "text/plain": [
       "[[0, 1], [0, 3], [1, 3]]"
      ]
     },
     "execution_count": 42,
     "metadata": {},
     "output_type": "execute_result"
    }
   ],
   "source": [
    "events"
   ]
  },
  {
   "cell_type": "code",
   "execution_count": null,
   "id": "5883bd28",
   "metadata": {},
   "outputs": [],
   "source": []
  }
 ],
 "metadata": {
  "kernelspec": {
   "display_name": "Python 3 (ipykernel)",
   "language": "python",
   "name": "python3"
  },
  "language_info": {
   "codemirror_mode": {
    "name": "ipython",
    "version": 3
   },
   "file_extension": ".py",
   "mimetype": "text/x-python",
   "name": "python",
   "nbconvert_exporter": "python",
   "pygments_lexer": "ipython3",
   "version": "3.10.9"
  }
 },
 "nbformat": 4,
 "nbformat_minor": 5
}
